{
  "nbformat": 4,
  "nbformat_minor": 0,
  "metadata": {
    "colab": {
      "name": "NYC_HATE_CRIMES.ipynb",
      "provenance": [],
      "collapsed_sections": []
    },
    "kernelspec": {
      "name": "python3",
      "display_name": "Python 3"
    },
    "language_info": {
      "name": "python"
    }
  },
  "cells": [
    {
      "cell_type": "code",
      "execution_count": null,
      "metadata": {
        "id": "uNDkHkcFGaTy"
      },
      "outputs": [],
      "source": [
        "import pandas as pd # data processing\n",
        "import matplotlib.pyplot as plt\n",
        "import numpy as np # linear algebra\n",
        "import seaborn as sns #ibrary in Python predominantly used for making statistical graphics\n",
        "import scipy as sp #pivot egineering\n",
        "from datetime import timedelta"
      ]
    },
    {
      "cell_type": "code",
      "source": [
        "%matplotlib inline"
      ],
      "metadata": {
        "id": "6akIeT9xRk2F"
      },
      "execution_count": null,
      "outputs": []
    },
    {
      "cell_type": "code",
      "source": [
        "path = '/content/drive/MyDrive/data/NYPD_Hate_Crimes.csv'"
      ],
      "metadata": {
        "id": "BdjA8mMIMGs2"
      },
      "execution_count": null,
      "outputs": []
    },
    {
      "cell_type": "code",
      "source": [
        "df = pd.read_csv(path)"
      ],
      "metadata": {
        "id": "mVwecikNMswG"
      },
      "execution_count": null,
      "outputs": []
    },
    {
      "cell_type": "code",
      "source": [
        "df.isnull().sum()"
      ],
      "metadata": {
        "colab": {
          "base_uri": "https://localhost:8080/"
        },
        "id": "r7jta9vkGwum",
        "outputId": "9ea66b67-5c82-4b8e-be25-41e73ba884b4"
      },
      "execution_count": null,
      "outputs": [
        {
          "output_type": "execute_result",
          "data": {
            "text/plain": [
              "Full Complaint ID                  0\n",
              "Complaint Year Number              0\n",
              "Month Number                       0\n",
              "Record Create Date                 0\n",
              "Complaint Precinct Code            0\n",
              "Patrol Borough Name                0\n",
              "County                             0\n",
              "Law Code Category Description      0\n",
              "Offense Description                0\n",
              "PD Code Description                0\n",
              "Bias Motive Description            0\n",
              "Offense Category                   0\n",
              "Arrest Date                      860\n",
              "Arrest Id                        860\n",
              "dtype: int64"
            ]
          },
          "metadata": {},
          "execution_count": 5
        }
      ]
    },
    {
      "cell_type": "code",
      "source": [
        "df.shape"
      ],
      "metadata": {
        "id": "fs-8dokOmUXt",
        "outputId": "ce4bd76f-d2b9-44b3-973b-f448da4ebf5c",
        "colab": {
          "base_uri": "https://localhost:8080/"
        }
      },
      "execution_count": null,
      "outputs": [
        {
          "output_type": "execute_result",
          "data": {
            "text/plain": [
              "(1296, 14)"
            ]
          },
          "metadata": {},
          "execution_count": 6
        }
      ]
    },
    {
      "cell_type": "code",
      "source": [
        "df.info()"
      ],
      "metadata": {
        "colab": {
          "base_uri": "https://localhost:8080/"
        },
        "id": "LFeon1GIRfkg",
        "outputId": "6b1c34e4-510f-4ff1-e7da-7795815440e4"
      },
      "execution_count": null,
      "outputs": [
        {
          "output_type": "stream",
          "name": "stdout",
          "text": [
            "<class 'pandas.core.frame.DataFrame'>\n",
            "RangeIndex: 1296 entries, 0 to 1295\n",
            "Data columns (total 14 columns):\n",
            " #   Column                         Non-Null Count  Dtype \n",
            "---  ------                         --------------  ----- \n",
            " 0   Full Complaint ID              1296 non-null   int64 \n",
            " 1   Complaint Year Number          1296 non-null   int64 \n",
            " 2   Month Number                   1296 non-null   int64 \n",
            " 3   Record Create Date             1296 non-null   object\n",
            " 4   Complaint Precinct Code        1296 non-null   int64 \n",
            " 5   Patrol Borough Name            1296 non-null   object\n",
            " 6   County                         1296 non-null   object\n",
            " 7   Law Code Category Description  1296 non-null   object\n",
            " 8   Offense Description            1296 non-null   object\n",
            " 9   PD Code Description            1296 non-null   object\n",
            " 10  Bias Motive Description        1296 non-null   object\n",
            " 11  Offense Category               1296 non-null   object\n",
            " 12  Arrest Date                    436 non-null    object\n",
            " 13  Arrest Id                      436 non-null    object\n",
            "dtypes: int64(4), object(10)\n",
            "memory usage: 141.9+ KB\n"
          ]
        }
      ]
    },
    {
      "cell_type": "code",
      "source": [
        "df.columns"
      ],
      "metadata": {
        "colab": {
          "base_uri": "https://localhost:8080/"
        },
        "id": "WjPh3pvTHwWY",
        "outputId": "f21b3c1f-7b79-4427-b804-e1ecdeabc5bd"
      },
      "execution_count": null,
      "outputs": [
        {
          "output_type": "execute_result",
          "data": {
            "text/plain": [
              "Index(['Full Complaint ID', 'Complaint Year Number', 'Month Number',\n",
              "       'Record Create Date', 'Complaint Precinct Code', 'Patrol Borough Name',\n",
              "       'County', 'Law Code Category Description', 'Offense Description',\n",
              "       'PD Code Description', 'Bias Motive Description', 'Offense Category',\n",
              "       'Arrest Date', 'Arrest Id'],\n",
              "      dtype='object')"
            ]
          },
          "metadata": {},
          "execution_count": 8
        }
      ]
    },
    {
      "cell_type": "markdown",
      "source": [
        "## Data Cleaning"
      ],
      "metadata": {
        "id": "Zp_enTF7lfMt"
      }
    },
    {
      "cell_type": "code",
      "source": [
        "#Check all the county's listed in dataframe\n",
        "df['County'].unique()"
      ],
      "metadata": {
        "colab": {
          "base_uri": "https://localhost:8080/"
        },
        "id": "ilBGVxFVFrrr",
        "outputId": "ddd96559-75bb-41d7-a93e-08419846d4fb"
      },
      "execution_count": null,
      "outputs": [
        {
          "output_type": "execute_result",
          "data": {
            "text/plain": [
              "array(['BRONX', 'KINGS', 'NEW YORK', 'QUEENS', 'RICHMOND'], dtype=object)"
            ]
          },
          "metadata": {},
          "execution_count": 9
        }
      ]
    },
    {
      "cell_type": "code",
      "source": [
        "county = df['County'].value_counts()\n",
        "county"
      ],
      "metadata": {
        "colab": {
          "base_uri": "https://localhost:8080/"
        },
        "id": "uyIiSBubNd_T",
        "outputId": "179921ab-e02c-4335-dddf-83541032437f"
      },
      "execution_count": null,
      "outputs": [
        {
          "output_type": "execute_result",
          "data": {
            "text/plain": [
              "NEW YORK    462\n",
              "KINGS       441\n",
              "QUEENS      235\n",
              "BRONX       110\n",
              "RICHMOND     48\n",
              "Name: County, dtype: int64"
            ]
          },
          "metadata": {},
          "execution_count": 10
        }
      ]
    },
    {
      "cell_type": "code",
      "source": [
        "#Richmond County, more popularly known as Staten Island\n",
        "#I never knew this and I am guessing others dont know either because of this I will rename the value Staten Island\n",
        "#Also NEW YORK is vague because of this i will rename the county manhattan\n",
        "#kings county will be renamed brooklyn\n",
        "\n",
        "df['County'] = df['County'].replace(['NEW YORK'],'MANHATTAN')\n",
        "df['County'] = df['County'].replace(['KINGS'],'BROOKLYN')\n",
        "df['County'] = df['County'].replace(['RICHMOND'],'STATEN ISLAND')\n"
      ],
      "metadata": {
        "id": "0PHUcl-nJspq"
      },
      "execution_count": null,
      "outputs": []
    },
    {
      "cell_type": "code",
      "source": [
        "#Change null value for arrest date and arrest id to no arrest made\n",
        "\n",
        "df['Arrest Date'] = df['Arrest Date'].fillna('No Arrest Made')\n",
        "df['Arrest Id'] = df['Arrest Id'].fillna('No Arrest Made')\n"
      ],
      "metadata": {
        "id": "5FTQLIJBK0J0"
      },
      "execution_count": null,
      "outputs": []
    },
    {
      "cell_type": "code",
      "source": [
        "df.isnull().sum()"
      ],
      "metadata": {
        "colab": {
          "base_uri": "https://localhost:8080/"
        },
        "id": "7HWYyX6nLG7q",
        "outputId": "836b0fda-0127-4858-cfa5-7c335e6e66af"
      },
      "execution_count": null,
      "outputs": [
        {
          "output_type": "execute_result",
          "data": {
            "text/plain": [
              "Full Complaint ID                0\n",
              "Complaint Year Number            0\n",
              "Month Number                     0\n",
              "Record Create Date               0\n",
              "Complaint Precinct Code          0\n",
              "Patrol Borough Name              0\n",
              "County                           0\n",
              "Law Code Category Description    0\n",
              "Offense Description              0\n",
              "PD Code Description              0\n",
              "Bias Motive Description          0\n",
              "Offense Category                 0\n",
              "Arrest Date                      0\n",
              "Arrest Id                        0\n",
              "dtype: int64"
            ]
          },
          "metadata": {},
          "execution_count": 13
        }
      ]
    },
    {
      "cell_type": "code",
      "source": [
        "#CHECK TO SEE IF THE COUNTY WAS RENAMED\n",
        "\n",
        "county_info = df['County'].value_counts()\n",
        "county_info"
      ],
      "metadata": {
        "colab": {
          "base_uri": "https://localhost:8080/"
        },
        "id": "Un94UT4wKhMF",
        "outputId": "b3d18097-eb56-4816-f7cb-1fcb14546260"
      },
      "execution_count": null,
      "outputs": [
        {
          "output_type": "execute_result",
          "data": {
            "text/plain": [
              "MANHATTAN        462\n",
              "BROOKLYN         441\n",
              "QUEENS           235\n",
              "BRONX            110\n",
              "STATEN ISLAND     48\n",
              "Name: County, dtype: int64"
            ]
          },
          "metadata": {},
          "execution_count": 14
        }
      ]
    },
    {
      "cell_type": "code",
      "source": [
        "df['Complaint Year Number'].unique()\n",
        "\n",
        "#yay it has the 3 years I need!!!"
      ],
      "metadata": {
        "colab": {
          "base_uri": "https://localhost:8080/"
        },
        "id": "7mR3TnK3Xoyo",
        "outputId": "ef6f0043-a4c6-4a97-b2a4-ad388d1babff"
      },
      "execution_count": null,
      "outputs": [
        {
          "output_type": "execute_result",
          "data": {
            "text/plain": [
              "array([2019, 2020, 2021])"
            ]
          },
          "metadata": {},
          "execution_count": 15
        }
      ]
    },
    {
      "cell_type": "code",
      "source": [
        "df['Offense Description'].unique()"
      ],
      "metadata": {
        "colab": {
          "base_uri": "https://localhost:8080/"
        },
        "id": "6COau_EFjkKL",
        "outputId": "b98c1b6a-4ae2-4d7d-fd11-cdcc93fbce3d"
      },
      "execution_count": null,
      "outputs": [
        {
          "output_type": "execute_result",
          "data": {
            "text/plain": [
              "array(['FELONY ASSAULT', 'ASSAULT 3 & RELATED OFFENSES', 'ROBBERY',\n",
              "       'RAPE', 'MISCELLANEOUS PENAL LAW', 'OFF. AGNST PUB ORD SENSBLTY &',\n",
              "       'CRIMINAL MISCHIEF & RELATED OF', 'BURGLARY', 'CRIMINAL TRESPASS',\n",
              "       'MURDER & NON-NEGL. MANSLAUGHTE', 'DANGEROUS WEAPONS',\n",
              "       'GRAND LARCENY', 'SEX CRIMES', 'HARRASSMENT 2',\n",
              "       'INVESTIGATIONS/COMPLAINTS ONLY', 'FRAUDS', 'PETIT LARCENY'],\n",
              "      dtype=object)"
            ]
          },
          "metadata": {},
          "execution_count": 16
        }
      ]
    },
    {
      "cell_type": "code",
      "source": [
        "#data cleaning of the offense description column\n",
        "\n",
        "df['Offense Description'] = df['Offense Description'].replace(['MURDER & NON-NEGL. MANSLAUGHTE'],'Murder/Non-negligent Manslaughter')\n",
        "df['Offense Description'] = df['Offense Description'].replace(['HARRASSMENT 2'],'HARRASSMENT')\n",
        "df['Offense Description'] = df['Offense Description'].replace(['OFF. AGNST PUB ORD SENSBLTY &'],'OFFENSES AGAINST PUBLIC ORDER/ADMINISTRATION')\n",
        "df['Offense Description'] = df['Offense Description'].replace(['CRIMINAL MISCHIEF & RELATED OF'],'CRIMINAL MISCHIEF')"
      ],
      "metadata": {
        "id": "-7ItPffOjLJo"
      },
      "execution_count": null,
      "outputs": []
    },
    {
      "cell_type": "markdown",
      "source": [
        "## IMPORT DATATIME FOR POTENTIAL USE\n",
        "\n",
        "\n",
        "The Month Number colunmn seems to be usless, I can not see to many use cases for it because there is already a Record Created Data column that give the date the crime was reported.\n",
        "\n",
        "because of this I will be using date time on the 'Record Created Column"
      ],
      "metadata": {
        "id": "wX1raWVKUx5o"
      }
    },
    {
      "cell_type": "code",
      "source": [
        "#item is listed as a string type\n",
        "\n",
        "print(df['Record Create Date'][0])\n",
        "print(type(df['Record Create Date'][0]))"
      ],
      "metadata": {
        "colab": {
          "base_uri": "https://localhost:8080/"
        },
        "id": "zCTTGroXS0dJ",
        "outputId": "8df957d1-91e0-4232-8753-eb50871b60ea"
      },
      "execution_count": null,
      "outputs": [
        {
          "output_type": "stream",
          "name": "stdout",
          "text": [
            "02/08/2019\n",
            "<class 'str'>\n"
          ]
        }
      ]
    },
    {
      "cell_type": "code",
      "source": [
        "#changed 'Record Create Date' column from an int datatype to a datetime value\n",
        "#this will be good for furter exploration of the data\n",
        "\n",
        "df['Record Create Date'] = pd.to_datetime(df['Record Create Date'], format=\"%m/%d/%Y\", errors='coerce')\n",
        "df['Record Create Date']"
      ],
      "metadata": {
        "colab": {
          "base_uri": "https://localhost:8080/"
        },
        "id": "mrS5W7ZQRzeB",
        "outputId": "4ff027bf-30f9-4ed9-9861-fc9a901092bc"
      },
      "execution_count": null,
      "outputs": [
        {
          "output_type": "execute_result",
          "data": {
            "text/plain": [
              "0      2019-02-08\n",
              "1      2019-03-09\n",
              "2      2019-03-08\n",
              "3      2019-03-10\n",
              "4      2019-05-11\n",
              "          ...    \n",
              "1291   2021-07-27\n",
              "1292   2021-08-20\n",
              "1293   2021-12-28\n",
              "1294   2021-04-19\n",
              "1295   2021-08-27\n",
              "Name: Record Create Date, Length: 1296, dtype: datetime64[ns]"
            ]
          },
          "metadata": {},
          "execution_count": 19
        }
      ]
    },
    {
      "cell_type": "code",
      "source": [
        "df.info()\n",
        "\n",
        "# shows \"Record create date\" dtype is now date-time"
      ],
      "metadata": {
        "colab": {
          "base_uri": "https://localhost:8080/"
        },
        "id": "nRSuAvgDSEZY",
        "outputId": "83172b05-8379-40da-9e7c-841502b3588f"
      },
      "execution_count": null,
      "outputs": [
        {
          "output_type": "stream",
          "name": "stdout",
          "text": [
            "<class 'pandas.core.frame.DataFrame'>\n",
            "RangeIndex: 1296 entries, 0 to 1295\n",
            "Data columns (total 14 columns):\n",
            " #   Column                         Non-Null Count  Dtype         \n",
            "---  ------                         --------------  -----         \n",
            " 0   Full Complaint ID              1296 non-null   int64         \n",
            " 1   Complaint Year Number          1296 non-null   int64         \n",
            " 2   Month Number                   1296 non-null   int64         \n",
            " 3   Record Create Date             1296 non-null   datetime64[ns]\n",
            " 4   Complaint Precinct Code        1296 non-null   int64         \n",
            " 5   Patrol Borough Name            1296 non-null   object        \n",
            " 6   County                         1296 non-null   object        \n",
            " 7   Law Code Category Description  1296 non-null   object        \n",
            " 8   Offense Description            1296 non-null   object        \n",
            " 9   PD Code Description            1296 non-null   object        \n",
            " 10  Bias Motive Description        1296 non-null   object        \n",
            " 11  Offense Category               1296 non-null   object        \n",
            " 12  Arrest Date                    1296 non-null   object        \n",
            " 13  Arrest Id                      1296 non-null   object        \n",
            "dtypes: datetime64[ns](1), int64(4), object(9)\n",
            "memory usage: 141.9+ KB\n"
          ]
        }
      ]
    },
    {
      "cell_type": "code",
      "source": [
        "print(\"printing original format of the data: \",df['Record Create Date'][0])\n",
        "print(\"printing the month: \",df['Record Create Date'].dt.month[0])\n",
        "print(\"printing the year: \",df['Record Create Date'].dt.year[0])\n",
        "print(\"printing the weekday: \",df['Record Create Date'].dt.day_name()[0])"
      ],
      "metadata": {
        "colab": {
          "base_uri": "https://localhost:8080/"
        },
        "id": "bqf6jCEgT4w7",
        "outputId": "7f8a89a3-3c56-49e2-c385-50370086387a"
      },
      "execution_count": null,
      "outputs": [
        {
          "output_type": "stream",
          "name": "stdout",
          "text": [
            "printing original format of the data:  2019-02-08 00:00:00\n",
            "printing the month:  2\n",
            "printing the year:  2019\n",
            "printing the weekday:  Friday\n"
          ]
        }
      ]
    },
    {
      "cell_type": "code",
      "source": [
        ""
      ],
      "metadata": {
        "id": "ac1WZ-2owEay"
      },
      "execution_count": null,
      "outputs": []
    },
    {
      "cell_type": "markdown",
      "source": [
        "### ToDO\n",
        "\n",
        "check to see all the Bias motive decreption\n",
        "\n",
        "make a seperate columns to check if True/False of Bias\n",
        "\n",
        "withe this project we only care about\n",
        "\n",
        "1.  ANTI-MALE HOMOSEXUAL (GAY)\n",
        "2.  ANTI-WHITE\n",
        "3.  ANTI-MUSLIM\n",
        "4.  ANTI-HISPANIC\n",
        "5.  ANTI-TRANSGENDER\n",
        "6.  ANTI-ASIAN\n",
        "7.  ANTI-BLACK\n",
        "8.  ANTI-FEMALE HOMOSEXUAL (LESBIAN)\n",
        "9. ANTI-LGBT (MIXED GROUP)\n",
        "\n",
        "\n",
        "Part 2 \n",
        "\n",
        "find the crimes commited in each year to compare if crime they went up or **down**"
      ],
      "metadata": {
        "id": "NcnQDqKvOqMR"
      }
    },
    {
      "cell_type": "code",
      "source": [
        "Bias = df[\"Bias Motive Description\"].unique()\n",
        "Bias"
      ],
      "metadata": {
        "colab": {
          "base_uri": "https://localhost:8080/"
        },
        "id": "kqO1ywYlSoKt",
        "outputId": "fa341f73-40ce-40de-b42a-f1fd16e9f6e0"
      },
      "execution_count": null,
      "outputs": [
        {
          "output_type": "execute_result",
          "data": {
            "text/plain": [
              "array(['ANTI-MALE HOMOSEXUAL (GAY)', 'ANTI-WHITE', 'ANTI-MUSLIM',\n",
              "       'ANTI-HISPANIC', 'ANTI-TRANSGENDER', 'ANTI-JEWISH', 'ANTI-ASIAN',\n",
              "       'ANTI-BLACK', 'ANTI-FEMALE HOMOSEXUAL (LESBIAN)', 'ANTI-CATHOLIC',\n",
              "       'ANTI-ARAB', 'ANTI-GENDER NON-CONFORMING', 'ANTI-FEMALE',\n",
              "       'ANTI-LGBT (MIXED GROUP)', 'ANTI-MULTI-RACIAL GROUPS',\n",
              "       'ANTI-OTHER ETHNICITY', '60 YRS AND OLDER', 'ANTI-HINDU',\n",
              "       'ANTI-BUDDHIST', 'ANTI-JEHOVAHS WITNESS',\n",
              "       'ANTI-PHYSICAL DISABILITY', 'ANTI-OTHER RELIGION',\n",
              "       'ANTI-RELIGIOUS PRACTICE GENERALLY'], dtype=object)"
            ]
          },
          "metadata": {},
          "execution_count": 22
        }
      ]
    },
    {
      "cell_type": "code",
      "source": [
        "#using filter to return a booling value (True and false value) \n",
        "#for columns that contain the sub string 'ANTI-BLACK', ANTI-ASIAN and etc in it.\n",
        "\n",
        "anti_black = df[\"Bias Motive Description\"].str.contains('ANTI-BLACK')\n",
        "anti_asian = df[\"Bias Motive Description\"].str.contains('ANTI-ASIAN')\n",
        "anti_gay_male = df[\"Bias Motive Description\"].str.contains('ANTI-MALE HOMOSEXUAL (GAY)')\n",
        "anti_white = df[\"Bias Motive Description\"].str.contains('ANTI-WHITE')\n",
        "anti_muslim = df[\"Bias Motive Description\"].str.contains('ANTI-MUSLIM')\n",
        "anti_hispanic = df[\"Bias Motive Description\"].str.contains('ANTI-HISPANIC')\n",
        "anti_transgender = df[\"Bias Motive Description\"].str.contains('ANTI-TRANSGENDER')\n",
        "anti_lesbian = df[\"Bias Motive Description\"].str.contains('ANTI-FEMALE HOMOSEXUAL (LESBIAN)')\n",
        "anti_lgbt_group = df[\"Bias Motive Description\"].str.contains('ANTI-LGBT (MIXED GROUP)')\n"
      ],
      "metadata": {
        "colab": {
          "base_uri": "https://localhost:8080/"
        },
        "id": "hYkBHCHkaXaN",
        "outputId": "c6d5423e-5315-4cc2-ff40-5493a121be37"
      },
      "execution_count": null,
      "outputs": [
        {
          "output_type": "stream",
          "name": "stderr",
          "text": [
            "/usr/local/lib/python3.7/dist-packages/ipykernel_launcher.py:6: UserWarning: This pattern has match groups. To actually get the groups, use str.extract.\n",
            "  \n",
            "/usr/local/lib/python3.7/dist-packages/ipykernel_launcher.py:11: UserWarning: This pattern has match groups. To actually get the groups, use str.extract.\n",
            "  # This is added back by InteractiveShellApp.init_path()\n",
            "/usr/local/lib/python3.7/dist-packages/ipykernel_launcher.py:12: UserWarning: This pattern has match groups. To actually get the groups, use str.extract.\n",
            "  if sys.path[0] == '':\n"
          ]
        }
      ]
    },
    {
      "cell_type": "code",
      "source": [
        "#make columns that store values above\n",
        "\n",
        "df['ANTI-BLACK']= anti_black\n",
        "df[\"ANTI-ASIAN\"]= anti_asian\n",
        "df['ANTI-GAY-MALE'] = anti_gay_male\n",
        "df['ANTI-WHITE'] = anti_white\n",
        "df['ANTI-MUSLIM']= anti_muslim\n",
        "df['ANTI-HISPANIC']= anti_hispanic\n",
        "df['ANTI-TRANSGENDER']= anti_transgender\n",
        "df['ANTI- LESBIAN'] = anti_lesbian\n",
        "df['ANTI-LGBT-GROUP)'] = anti_lgbt_group\n"
      ],
      "metadata": {
        "id": "IQEGjyaucgT5"
      },
      "execution_count": null,
      "outputs": []
    },
    {
      "cell_type": "markdown",
      "source": [
        "below I used .count() method to check the true or false in each column made.\n",
        "\n",
        "\n",
        "The reasoning behind this is to get a better understanding of how many true bias's are there for each.\n",
        "\n",
        "\n",
        "\n",
        "And which value is better to futher examine."
      ],
      "metadata": {
        "id": "bH7sJ8hhnq6f"
      }
    },
    {
      "cell_type": "code",
      "source": [
        "df['ANTI-BLACK'].value_counts()\n"
      ],
      "metadata": {
        "colab": {
          "base_uri": "https://localhost:8080/"
        },
        "id": "7TPHw0N1g59m",
        "outputId": "949937fc-7b00-4d20-a6f2-0fdf3edaaaf1"
      },
      "execution_count": null,
      "outputs": [
        {
          "output_type": "execute_result",
          "data": {
            "text/plain": [
              "False    1182\n",
              "True      114\n",
              "Name: ANTI-BLACK, dtype: int64"
            ]
          },
          "metadata": {},
          "execution_count": 25
        }
      ]
    },
    {
      "cell_type": "code",
      "source": [
        "df['ANTI-ASIAN'].value_counts()"
      ],
      "metadata": {
        "colab": {
          "base_uri": "https://localhost:8080/"
        },
        "id": "IhMWyjeMhZ3n",
        "outputId": "83c830cc-637d-4deb-eaa0-0030111d23fd"
      },
      "execution_count": null,
      "outputs": [
        {
          "output_type": "execute_result",
          "data": {
            "text/plain": [
              "False    1118\n",
              "True      178\n",
              "Name: ANTI-ASIAN, dtype: int64"
            ]
          },
          "metadata": {},
          "execution_count": 26
        }
      ]
    },
    {
      "cell_type": "code",
      "source": [
        "df['ANTI-WHITE'].value_counts()"
      ],
      "metadata": {
        "colab": {
          "base_uri": "https://localhost:8080/"
        },
        "id": "ldERKfOohkN2",
        "outputId": "d3a83689-cc25-4a59-8589-a8ded12a1192"
      },
      "execution_count": null,
      "outputs": [
        {
          "output_type": "execute_result",
          "data": {
            "text/plain": [
              "False    1240\n",
              "True       56\n",
              "Name: ANTI-WHITE, dtype: int64"
            ]
          },
          "metadata": {},
          "execution_count": 27
        }
      ]
    },
    {
      "cell_type": "code",
      "source": [
        "df['ANTI-MUSLIM'].value_counts()\n"
      ],
      "metadata": {
        "colab": {
          "base_uri": "https://localhost:8080/"
        },
        "id": "KZ42Xgm4R8v4",
        "outputId": "6e623589-6061-4cbd-e0a6-31d00dc0d6f8"
      },
      "execution_count": null,
      "outputs": [
        {
          "output_type": "execute_result",
          "data": {
            "text/plain": [
              "False    1265\n",
              "True       31\n",
              "Name: ANTI-MUSLIM, dtype: int64"
            ]
          },
          "metadata": {},
          "execution_count": 28
        }
      ]
    },
    {
      "cell_type": "code",
      "source": [
        "df['ANTI-HISPANIC'].value_counts()\n"
      ],
      "metadata": {
        "colab": {
          "base_uri": "https://localhost:8080/"
        },
        "id": "9gDAAOKSR933",
        "outputId": "af95b495-6b4f-45b1-cab3-084c35bab2c2"
      },
      "execution_count": null,
      "outputs": [
        {
          "output_type": "execute_result",
          "data": {
            "text/plain": [
              "False    1277\n",
              "True       19\n",
              "Name: ANTI-HISPANIC, dtype: int64"
            ]
          },
          "metadata": {},
          "execution_count": 29
        }
      ]
    },
    {
      "cell_type": "code",
      "source": [
        "df['ANTI-TRANSGENDER'].value_counts()"
      ],
      "metadata": {
        "colab": {
          "base_uri": "https://localhost:8080/"
        },
        "id": "hkOp2dOJScwg",
        "outputId": "0665a98a-a57d-42f0-8237-d902f77fe48f"
      },
      "execution_count": null,
      "outputs": [
        {
          "output_type": "execute_result",
          "data": {
            "text/plain": [
              "False    1261\n",
              "True       35\n",
              "Name: ANTI-TRANSGENDER, dtype: int64"
            ]
          },
          "metadata": {},
          "execution_count": 30
        }
      ]
    },
    {
      "cell_type": "code",
      "source": [
        "df[\"ANTI- LESBIAN\"].value_counts()"
      ],
      "metadata": {
        "colab": {
          "base_uri": "https://localhost:8080/"
        },
        "id": "z4N5O-madH6M",
        "outputId": "c1378857-b81c-4d00-c27b-cd60341c6469"
      },
      "execution_count": null,
      "outputs": [
        {
          "output_type": "execute_result",
          "data": {
            "text/plain": [
              "False    1296\n",
              "Name: ANTI- LESBIAN, dtype: int64"
            ]
          },
          "metadata": {},
          "execution_count": 31
        }
      ]
    },
    {
      "cell_type": "code",
      "source": [
        "df['ANTI-LGBT-GROUP)'].value_counts()"
      ],
      "metadata": {
        "colab": {
          "base_uri": "https://localhost:8080/"
        },
        "id": "a186XxaNdJIC",
        "outputId": "db259fb3-3ca7-43e7-a55c-b44b293c3cde"
      },
      "execution_count": null,
      "outputs": [
        {
          "output_type": "execute_result",
          "data": {
            "text/plain": [
              "False    1296\n",
              "Name: ANTI-LGBT-GROUP), dtype: int64"
            ]
          },
          "metadata": {},
          "execution_count": 32
        }
      ]
    },
    {
      "cell_type": "code",
      "source": [
        "df['ANTI-GAY-MALE'].value_counts()"
      ],
      "metadata": {
        "colab": {
          "base_uri": "https://localhost:8080/"
        },
        "id": "aGe_V93_dJrQ",
        "outputId": "03cffc66-07c2-4c47-e5e4-b3bad112b86b"
      },
      "execution_count": null,
      "outputs": [
        {
          "output_type": "execute_result",
          "data": {
            "text/plain": [
              "False    1296\n",
              "Name: ANTI-GAY-MALE, dtype: int64"
            ]
          },
          "metadata": {},
          "execution_count": 33
        }
      ]
    },
    {
      "cell_type": "code",
      "source": [
        "df.info()"
      ],
      "metadata": {
        "colab": {
          "base_uri": "https://localhost:8080/"
        },
        "id": "Q6UdwHzagbaE",
        "outputId": "1720c252-67d4-4719-f9ce-b168f58d6085"
      },
      "execution_count": null,
      "outputs": [
        {
          "output_type": "stream",
          "name": "stdout",
          "text": [
            "<class 'pandas.core.frame.DataFrame'>\n",
            "RangeIndex: 1296 entries, 0 to 1295\n",
            "Data columns (total 23 columns):\n",
            " #   Column                         Non-Null Count  Dtype         \n",
            "---  ------                         --------------  -----         \n",
            " 0   Full Complaint ID              1296 non-null   int64         \n",
            " 1   Complaint Year Number          1296 non-null   int64         \n",
            " 2   Month Number                   1296 non-null   int64         \n",
            " 3   Record Create Date             1296 non-null   datetime64[ns]\n",
            " 4   Complaint Precinct Code        1296 non-null   int64         \n",
            " 5   Patrol Borough Name            1296 non-null   object        \n",
            " 6   County                         1296 non-null   object        \n",
            " 7   Law Code Category Description  1296 non-null   object        \n",
            " 8   Offense Description            1296 non-null   object        \n",
            " 9   PD Code Description            1296 non-null   object        \n",
            " 10  Bias Motive Description        1296 non-null   object        \n",
            " 11  Offense Category               1296 non-null   object        \n",
            " 12  Arrest Date                    1296 non-null   object        \n",
            " 13  Arrest Id                      1296 non-null   object        \n",
            " 14  ANTI-BLACK                     1296 non-null   bool          \n",
            " 15  ANTI-ASIAN                     1296 non-null   bool          \n",
            " 16  ANTI-GAY-MALE                  1296 non-null   bool          \n",
            " 17  ANTI-WHITE                     1296 non-null   bool          \n",
            " 18  ANTI-MUSLIM                    1296 non-null   bool          \n",
            " 19  ANTI-HISPANIC                  1296 non-null   bool          \n",
            " 20  ANTI-TRANSGENDER               1296 non-null   bool          \n",
            " 21  ANTI- LESBIAN                  1296 non-null   bool          \n",
            " 22  ANTI-LGBT-GROUP)               1296 non-null   bool          \n",
            "dtypes: bool(9), datetime64[ns](1), int64(4), object(9)\n",
            "memory usage: 153.3+ KB\n"
          ]
        }
      ]
    },
    {
      "cell_type": "code",
      "source": [
        "df.corr(method ='pearson')"
      ],
      "metadata": {
        "id": "CV4fES-0hBgs",
        "outputId": "7305d837-9783-464e-fdfc-62d5254f49ea",
        "colab": {
          "base_uri": "https://localhost:8080/",
          "height": 659
        }
      },
      "execution_count": null,
      "outputs": [
        {
          "output_type": "execute_result",
          "data": {
            "text/plain": [
              "                         Full Complaint ID  Complaint Year Number  \\\n",
              "Full Complaint ID                 1.000000               0.999078   \n",
              "Complaint Year Number             0.999078               1.000000   \n",
              "Month Number                     -0.002173              -0.002345   \n",
              "Complaint Precinct Code          -0.034077              -0.076956   \n",
              "ANTI-BLACK                       -0.015638              -0.019773   \n",
              "ANTI-ASIAN                        0.318003               0.323366   \n",
              "ANTI-GAY-MALE                          NaN                    NaN   \n",
              "ANTI-WHITE                       -0.067503              -0.065188   \n",
              "ANTI-MUSLIM                      -0.036403              -0.039197   \n",
              "ANTI-HISPANIC                    -0.011780              -0.012635   \n",
              "ANTI-TRANSGENDER                  0.013291               0.009820   \n",
              "ANTI- LESBIAN                          NaN                    NaN   \n",
              "ANTI-LGBT-GROUP)                       NaN                    NaN   \n",
              "\n",
              "                         Month Number  Complaint Precinct Code  ANTI-BLACK  \\\n",
              "Full Complaint ID           -0.002173                -0.034077   -0.015638   \n",
              "Complaint Year Number       -0.002345                -0.076956   -0.019773   \n",
              "Month Number                 1.000000                 0.004071   -0.009870   \n",
              "Complaint Precinct Code      0.004071                 1.000000    0.097108   \n",
              "ANTI-BLACK                  -0.009870                 0.097108    1.000000   \n",
              "ANTI-ASIAN                  -0.155589                -0.142497   -0.123918   \n",
              "ANTI-GAY-MALE                     NaN                      NaN         NaN   \n",
              "ANTI-WHITE                   0.014143                -0.050142   -0.065997   \n",
              "ANTI-MUSLIM                  0.024001                 0.067050   -0.048616   \n",
              "ANTI-HISPANIC                0.037220                 0.020573   -0.037881   \n",
              "ANTI-TRANSGENDER            -0.005696                 0.080068   -0.051739   \n",
              "ANTI- LESBIAN                     NaN                      NaN         NaN   \n",
              "ANTI-LGBT-GROUP)                  NaN                      NaN         NaN   \n",
              "\n",
              "                         ANTI-ASIAN  ANTI-GAY-MALE  ANTI-WHITE  ANTI-MUSLIM  \\\n",
              "Full Complaint ID          0.318003            NaN   -0.067503    -0.036403   \n",
              "Complaint Year Number      0.323366            NaN   -0.065188    -0.039197   \n",
              "Month Number              -0.155589            NaN    0.014143     0.024001   \n",
              "Complaint Precinct Code   -0.142497            NaN   -0.050142     0.067050   \n",
              "ANTI-BLACK                -0.123918            NaN   -0.065997    -0.048616   \n",
              "ANTI-ASIAN                 1.000000            NaN   -0.084795    -0.062463   \n",
              "ANTI-GAY-MALE                   NaN            NaN         NaN          NaN   \n",
              "ANTI-WHITE                -0.084795            NaN    1.000000    -0.033267   \n",
              "ANTI-MUSLIM               -0.062463            NaN   -0.033267     1.000000   \n",
              "ANTI-HISPANIC             -0.048671            NaN   -0.025922    -0.019095   \n",
              "ANTI-TRANSGENDER          -0.066476            NaN   -0.035405    -0.026080   \n",
              "ANTI- LESBIAN                   NaN            NaN         NaN          NaN   \n",
              "ANTI-LGBT-GROUP)                NaN            NaN         NaN          NaN   \n",
              "\n",
              "                         ANTI-HISPANIC  ANTI-TRANSGENDER  ANTI- LESBIAN  \\\n",
              "Full Complaint ID            -0.011780          0.013291            NaN   \n",
              "Complaint Year Number        -0.012635          0.009820            NaN   \n",
              "Month Number                  0.037220         -0.005696            NaN   \n",
              "Complaint Precinct Code       0.020573          0.080068            NaN   \n",
              "ANTI-BLACK                   -0.037881         -0.051739            NaN   \n",
              "ANTI-ASIAN                   -0.048671         -0.066476            NaN   \n",
              "ANTI-GAY-MALE                      NaN               NaN            NaN   \n",
              "ANTI-WHITE                   -0.025922         -0.035405            NaN   \n",
              "ANTI-MUSLIM                  -0.019095         -0.026080            NaN   \n",
              "ANTI-HISPANIC                 1.000000         -0.020322            NaN   \n",
              "ANTI-TRANSGENDER             -0.020322          1.000000            NaN   \n",
              "ANTI- LESBIAN                      NaN               NaN            NaN   \n",
              "ANTI-LGBT-GROUP)                   NaN               NaN            NaN   \n",
              "\n",
              "                         ANTI-LGBT-GROUP)  \n",
              "Full Complaint ID                     NaN  \n",
              "Complaint Year Number                 NaN  \n",
              "Month Number                          NaN  \n",
              "Complaint Precinct Code               NaN  \n",
              "ANTI-BLACK                            NaN  \n",
              "ANTI-ASIAN                            NaN  \n",
              "ANTI-GAY-MALE                         NaN  \n",
              "ANTI-WHITE                            NaN  \n",
              "ANTI-MUSLIM                           NaN  \n",
              "ANTI-HISPANIC                         NaN  \n",
              "ANTI-TRANSGENDER                      NaN  \n",
              "ANTI- LESBIAN                         NaN  \n",
              "ANTI-LGBT-GROUP)                      NaN  "
            ],
            "text/html": [
              "\n",
              "  <div id=\"df-6ba6988b-2f5c-445a-b543-a9d906bcdafa\">\n",
              "    <div class=\"colab-df-container\">\n",
              "      <div>\n",
              "<style scoped>\n",
              "    .dataframe tbody tr th:only-of-type {\n",
              "        vertical-align: middle;\n",
              "    }\n",
              "\n",
              "    .dataframe tbody tr th {\n",
              "        vertical-align: top;\n",
              "    }\n",
              "\n",
              "    .dataframe thead th {\n",
              "        text-align: right;\n",
              "    }\n",
              "</style>\n",
              "<table border=\"1\" class=\"dataframe\">\n",
              "  <thead>\n",
              "    <tr style=\"text-align: right;\">\n",
              "      <th></th>\n",
              "      <th>Full Complaint ID</th>\n",
              "      <th>Complaint Year Number</th>\n",
              "      <th>Month Number</th>\n",
              "      <th>Complaint Precinct Code</th>\n",
              "      <th>ANTI-BLACK</th>\n",
              "      <th>ANTI-ASIAN</th>\n",
              "      <th>ANTI-GAY-MALE</th>\n",
              "      <th>ANTI-WHITE</th>\n",
              "      <th>ANTI-MUSLIM</th>\n",
              "      <th>ANTI-HISPANIC</th>\n",
              "      <th>ANTI-TRANSGENDER</th>\n",
              "      <th>ANTI- LESBIAN</th>\n",
              "      <th>ANTI-LGBT-GROUP)</th>\n",
              "    </tr>\n",
              "  </thead>\n",
              "  <tbody>\n",
              "    <tr>\n",
              "      <th>Full Complaint ID</th>\n",
              "      <td>1.000000</td>\n",
              "      <td>0.999078</td>\n",
              "      <td>-0.002173</td>\n",
              "      <td>-0.034077</td>\n",
              "      <td>-0.015638</td>\n",
              "      <td>0.318003</td>\n",
              "      <td>NaN</td>\n",
              "      <td>-0.067503</td>\n",
              "      <td>-0.036403</td>\n",
              "      <td>-0.011780</td>\n",
              "      <td>0.013291</td>\n",
              "      <td>NaN</td>\n",
              "      <td>NaN</td>\n",
              "    </tr>\n",
              "    <tr>\n",
              "      <th>Complaint Year Number</th>\n",
              "      <td>0.999078</td>\n",
              "      <td>1.000000</td>\n",
              "      <td>-0.002345</td>\n",
              "      <td>-0.076956</td>\n",
              "      <td>-0.019773</td>\n",
              "      <td>0.323366</td>\n",
              "      <td>NaN</td>\n",
              "      <td>-0.065188</td>\n",
              "      <td>-0.039197</td>\n",
              "      <td>-0.012635</td>\n",
              "      <td>0.009820</td>\n",
              "      <td>NaN</td>\n",
              "      <td>NaN</td>\n",
              "    </tr>\n",
              "    <tr>\n",
              "      <th>Month Number</th>\n",
              "      <td>-0.002173</td>\n",
              "      <td>-0.002345</td>\n",
              "      <td>1.000000</td>\n",
              "      <td>0.004071</td>\n",
              "      <td>-0.009870</td>\n",
              "      <td>-0.155589</td>\n",
              "      <td>NaN</td>\n",
              "      <td>0.014143</td>\n",
              "      <td>0.024001</td>\n",
              "      <td>0.037220</td>\n",
              "      <td>-0.005696</td>\n",
              "      <td>NaN</td>\n",
              "      <td>NaN</td>\n",
              "    </tr>\n",
              "    <tr>\n",
              "      <th>Complaint Precinct Code</th>\n",
              "      <td>-0.034077</td>\n",
              "      <td>-0.076956</td>\n",
              "      <td>0.004071</td>\n",
              "      <td>1.000000</td>\n",
              "      <td>0.097108</td>\n",
              "      <td>-0.142497</td>\n",
              "      <td>NaN</td>\n",
              "      <td>-0.050142</td>\n",
              "      <td>0.067050</td>\n",
              "      <td>0.020573</td>\n",
              "      <td>0.080068</td>\n",
              "      <td>NaN</td>\n",
              "      <td>NaN</td>\n",
              "    </tr>\n",
              "    <tr>\n",
              "      <th>ANTI-BLACK</th>\n",
              "      <td>-0.015638</td>\n",
              "      <td>-0.019773</td>\n",
              "      <td>-0.009870</td>\n",
              "      <td>0.097108</td>\n",
              "      <td>1.000000</td>\n",
              "      <td>-0.123918</td>\n",
              "      <td>NaN</td>\n",
              "      <td>-0.065997</td>\n",
              "      <td>-0.048616</td>\n",
              "      <td>-0.037881</td>\n",
              "      <td>-0.051739</td>\n",
              "      <td>NaN</td>\n",
              "      <td>NaN</td>\n",
              "    </tr>\n",
              "    <tr>\n",
              "      <th>ANTI-ASIAN</th>\n",
              "      <td>0.318003</td>\n",
              "      <td>0.323366</td>\n",
              "      <td>-0.155589</td>\n",
              "      <td>-0.142497</td>\n",
              "      <td>-0.123918</td>\n",
              "      <td>1.000000</td>\n",
              "      <td>NaN</td>\n",
              "      <td>-0.084795</td>\n",
              "      <td>-0.062463</td>\n",
              "      <td>-0.048671</td>\n",
              "      <td>-0.066476</td>\n",
              "      <td>NaN</td>\n",
              "      <td>NaN</td>\n",
              "    </tr>\n",
              "    <tr>\n",
              "      <th>ANTI-GAY-MALE</th>\n",
              "      <td>NaN</td>\n",
              "      <td>NaN</td>\n",
              "      <td>NaN</td>\n",
              "      <td>NaN</td>\n",
              "      <td>NaN</td>\n",
              "      <td>NaN</td>\n",
              "      <td>NaN</td>\n",
              "      <td>NaN</td>\n",
              "      <td>NaN</td>\n",
              "      <td>NaN</td>\n",
              "      <td>NaN</td>\n",
              "      <td>NaN</td>\n",
              "      <td>NaN</td>\n",
              "    </tr>\n",
              "    <tr>\n",
              "      <th>ANTI-WHITE</th>\n",
              "      <td>-0.067503</td>\n",
              "      <td>-0.065188</td>\n",
              "      <td>0.014143</td>\n",
              "      <td>-0.050142</td>\n",
              "      <td>-0.065997</td>\n",
              "      <td>-0.084795</td>\n",
              "      <td>NaN</td>\n",
              "      <td>1.000000</td>\n",
              "      <td>-0.033267</td>\n",
              "      <td>-0.025922</td>\n",
              "      <td>-0.035405</td>\n",
              "      <td>NaN</td>\n",
              "      <td>NaN</td>\n",
              "    </tr>\n",
              "    <tr>\n",
              "      <th>ANTI-MUSLIM</th>\n",
              "      <td>-0.036403</td>\n",
              "      <td>-0.039197</td>\n",
              "      <td>0.024001</td>\n",
              "      <td>0.067050</td>\n",
              "      <td>-0.048616</td>\n",
              "      <td>-0.062463</td>\n",
              "      <td>NaN</td>\n",
              "      <td>-0.033267</td>\n",
              "      <td>1.000000</td>\n",
              "      <td>-0.019095</td>\n",
              "      <td>-0.026080</td>\n",
              "      <td>NaN</td>\n",
              "      <td>NaN</td>\n",
              "    </tr>\n",
              "    <tr>\n",
              "      <th>ANTI-HISPANIC</th>\n",
              "      <td>-0.011780</td>\n",
              "      <td>-0.012635</td>\n",
              "      <td>0.037220</td>\n",
              "      <td>0.020573</td>\n",
              "      <td>-0.037881</td>\n",
              "      <td>-0.048671</td>\n",
              "      <td>NaN</td>\n",
              "      <td>-0.025922</td>\n",
              "      <td>-0.019095</td>\n",
              "      <td>1.000000</td>\n",
              "      <td>-0.020322</td>\n",
              "      <td>NaN</td>\n",
              "      <td>NaN</td>\n",
              "    </tr>\n",
              "    <tr>\n",
              "      <th>ANTI-TRANSGENDER</th>\n",
              "      <td>0.013291</td>\n",
              "      <td>0.009820</td>\n",
              "      <td>-0.005696</td>\n",
              "      <td>0.080068</td>\n",
              "      <td>-0.051739</td>\n",
              "      <td>-0.066476</td>\n",
              "      <td>NaN</td>\n",
              "      <td>-0.035405</td>\n",
              "      <td>-0.026080</td>\n",
              "      <td>-0.020322</td>\n",
              "      <td>1.000000</td>\n",
              "      <td>NaN</td>\n",
              "      <td>NaN</td>\n",
              "    </tr>\n",
              "    <tr>\n",
              "      <th>ANTI- LESBIAN</th>\n",
              "      <td>NaN</td>\n",
              "      <td>NaN</td>\n",
              "      <td>NaN</td>\n",
              "      <td>NaN</td>\n",
              "      <td>NaN</td>\n",
              "      <td>NaN</td>\n",
              "      <td>NaN</td>\n",
              "      <td>NaN</td>\n",
              "      <td>NaN</td>\n",
              "      <td>NaN</td>\n",
              "      <td>NaN</td>\n",
              "      <td>NaN</td>\n",
              "      <td>NaN</td>\n",
              "    </tr>\n",
              "    <tr>\n",
              "      <th>ANTI-LGBT-GROUP)</th>\n",
              "      <td>NaN</td>\n",
              "      <td>NaN</td>\n",
              "      <td>NaN</td>\n",
              "      <td>NaN</td>\n",
              "      <td>NaN</td>\n",
              "      <td>NaN</td>\n",
              "      <td>NaN</td>\n",
              "      <td>NaN</td>\n",
              "      <td>NaN</td>\n",
              "      <td>NaN</td>\n",
              "      <td>NaN</td>\n",
              "      <td>NaN</td>\n",
              "      <td>NaN</td>\n",
              "    </tr>\n",
              "  </tbody>\n",
              "</table>\n",
              "</div>\n",
              "      <button class=\"colab-df-convert\" onclick=\"convertToInteractive('df-6ba6988b-2f5c-445a-b543-a9d906bcdafa')\"\n",
              "              title=\"Convert this dataframe to an interactive table.\"\n",
              "              style=\"display:none;\">\n",
              "        \n",
              "  <svg xmlns=\"http://www.w3.org/2000/svg\" height=\"24px\"viewBox=\"0 0 24 24\"\n",
              "       width=\"24px\">\n",
              "    <path d=\"M0 0h24v24H0V0z\" fill=\"none\"/>\n",
              "    <path d=\"M18.56 5.44l.94 2.06.94-2.06 2.06-.94-2.06-.94-.94-2.06-.94 2.06-2.06.94zm-11 1L8.5 8.5l.94-2.06 2.06-.94-2.06-.94L8.5 2.5l-.94 2.06-2.06.94zm10 10l.94 2.06.94-2.06 2.06-.94-2.06-.94-.94-2.06-.94 2.06-2.06.94z\"/><path d=\"M17.41 7.96l-1.37-1.37c-.4-.4-.92-.59-1.43-.59-.52 0-1.04.2-1.43.59L10.3 9.45l-7.72 7.72c-.78.78-.78 2.05 0 2.83L4 21.41c.39.39.9.59 1.41.59.51 0 1.02-.2 1.41-.59l7.78-7.78 2.81-2.81c.8-.78.8-2.07 0-2.86zM5.41 20L4 18.59l7.72-7.72 1.47 1.35L5.41 20z\"/>\n",
              "  </svg>\n",
              "      </button>\n",
              "      \n",
              "  <style>\n",
              "    .colab-df-container {\n",
              "      display:flex;\n",
              "      flex-wrap:wrap;\n",
              "      gap: 12px;\n",
              "    }\n",
              "\n",
              "    .colab-df-convert {\n",
              "      background-color: #E8F0FE;\n",
              "      border: none;\n",
              "      border-radius: 50%;\n",
              "      cursor: pointer;\n",
              "      display: none;\n",
              "      fill: #1967D2;\n",
              "      height: 32px;\n",
              "      padding: 0 0 0 0;\n",
              "      width: 32px;\n",
              "    }\n",
              "\n",
              "    .colab-df-convert:hover {\n",
              "      background-color: #E2EBFA;\n",
              "      box-shadow: 0px 1px 2px rgba(60, 64, 67, 0.3), 0px 1px 3px 1px rgba(60, 64, 67, 0.15);\n",
              "      fill: #174EA6;\n",
              "    }\n",
              "\n",
              "    [theme=dark] .colab-df-convert {\n",
              "      background-color: #3B4455;\n",
              "      fill: #D2E3FC;\n",
              "    }\n",
              "\n",
              "    [theme=dark] .colab-df-convert:hover {\n",
              "      background-color: #434B5C;\n",
              "      box-shadow: 0px 1px 3px 1px rgba(0, 0, 0, 0.15);\n",
              "      filter: drop-shadow(0px 1px 2px rgba(0, 0, 0, 0.3));\n",
              "      fill: #FFFFFF;\n",
              "    }\n",
              "  </style>\n",
              "\n",
              "      <script>\n",
              "        const buttonEl =\n",
              "          document.querySelector('#df-6ba6988b-2f5c-445a-b543-a9d906bcdafa button.colab-df-convert');\n",
              "        buttonEl.style.display =\n",
              "          google.colab.kernel.accessAllowed ? 'block' : 'none';\n",
              "\n",
              "        async function convertToInteractive(key) {\n",
              "          const element = document.querySelector('#df-6ba6988b-2f5c-445a-b543-a9d906bcdafa');\n",
              "          const dataTable =\n",
              "            await google.colab.kernel.invokeFunction('convertToInteractive',\n",
              "                                                     [key], {});\n",
              "          if (!dataTable) return;\n",
              "\n",
              "          const docLinkHtml = 'Like what you see? Visit the ' +\n",
              "            '<a target=\"_blank\" href=https://colab.research.google.com/notebooks/data_table.ipynb>data table notebook</a>'\n",
              "            + ' to learn more about interactive tables.';\n",
              "          element.innerHTML = '';\n",
              "          dataTable['output_type'] = 'display_data';\n",
              "          await google.colab.output.renderOutput(dataTable, element);\n",
              "          const docLink = document.createElement('div');\n",
              "          docLink.innerHTML = docLinkHtml;\n",
              "          element.appendChild(docLink);\n",
              "        }\n",
              "      </script>\n",
              "    </div>\n",
              "  </div>\n",
              "  "
            ]
          },
          "metadata": {},
          "execution_count": 100
        }
      ]
    },
    {
      "cell_type": "code",
      "source": [
        "df['Offense Description'].unique()"
      ],
      "metadata": {
        "colab": {
          "base_uri": "https://localhost:8080/"
        },
        "id": "AxZ3Po96WKE0",
        "outputId": "3ce55537-cded-45ff-c5a0-18a94d15a04a"
      },
      "execution_count": null,
      "outputs": [
        {
          "output_type": "execute_result",
          "data": {
            "text/plain": [
              "array(['FELONY ASSAULT', 'ASSAULT 3 & RELATED OFFENSES', 'ROBBERY',\n",
              "       'RAPE', 'MISCELLANEOUS PENAL LAW',\n",
              "       'OFFENSES AGAINST PUBLIC ORDER/ADMINISTRATION',\n",
              "       'CRIMINAL MISCHIEF', 'BURGLARY', 'CRIMINAL TRESPASS',\n",
              "       'Murder/Non-negligent Manslaughter', 'DANGEROUS WEAPONS',\n",
              "       'GRAND LARCENY', 'SEX CRIMES', 'HARRASSMENT',\n",
              "       'INVESTIGATIONS/COMPLAINTS ONLY', 'FRAUDS', 'PETIT LARCENY'],\n",
              "      dtype=object)"
            ]
          },
          "metadata": {},
          "execution_count": 35
        }
      ]
    },
    {
      "cell_type": "code",
      "source": [
        "#making a sub dataframe for all values in selected columns with boolean statement is true\n",
        "\n",
        "asian = df.loc[df['ANTI-ASIAN'] == True]\n",
        "black = df.loc[df['ANTI-BLACK'] == True]\n",
        "white = df.loc[df['ANTI-WHITE'] == True]\n",
        "muslim = df.loc[df[\"ANTI-MUSLIM\"] == True]\n",
        "hispanic = df.loc[df['ANTI-HISPANIC'] == True]\n",
        "trans = df.loc[df['ANTI-TRANSGENDER'] == True]"
      ],
      "metadata": {
        "id": "qD4RXeDKA47_"
      },
      "execution_count": null,
      "outputs": []
    },
    {
      "cell_type": "code",
      "source": [
        "asian_2019 = asian.loc[asian['Complaint Year Number'] == 2019]\n",
        "asian_2020 = asian.loc[asian['Complaint Year Number'] == 2020]\n",
        "asian_2021 = asian.loc[asian['Complaint Year Number'] == 2021]\n",
        "\n",
        "black_2019 = black.loc[black['Complaint Year Number'] == 2019]\n",
        "black_2020 = black.loc[black['Complaint Year Number'] == 2020]\n",
        "black_2021 = black.loc[black['Complaint Year Number'] == 2021]\n",
        "\n",
        "white_2019 = white.loc[white['Complaint Year Number'] == 2019]\n",
        "white_2020 = white.loc[white['Complaint Year Number'] == 2020]\n",
        "white_2021 = white.loc[white['Complaint Year Number'] == 2021]\n",
        "\n",
        "muslim_2019 = muslim.loc[muslim['Complaint Year Number'] == 2019]\n",
        "muslim_2020 = muslim.loc[muslim['Complaint Year Number'] == 2020]\n",
        "muslim_2021 = muslim.loc[muslim['Complaint Year Number'] == 2021]\n",
        "\n",
        "hispanic_2019 = hispanic.loc[hispanic['Complaint Year Number'] == 2019]\n",
        "hispanic_2020 = hispanic.loc[hispanic['Complaint Year Number'] == 2020]\n",
        "hispanic_2021 = hispanic.loc[hispanic['Complaint Year Number'] == 2021]\n",
        "\n",
        "trans_2019 = trans.loc[trans['Complaint Year Number'] == 2019]\n",
        "trans_2020 = trans.loc[trans['Complaint Year Number'] == 2020]\n",
        "trans_2021 = trans.loc[trans['Complaint Year Number'] == 2021]\n",
        "\n"
      ],
      "metadata": {
        "id": "HZoqXUO0JBb2"
      },
      "execution_count": null,
      "outputs": []
    },
    {
      "cell_type": "code",
      "source": [
        "asian.head()"
      ],
      "metadata": {
        "colab": {
          "base_uri": "https://localhost:8080/",
          "height": 507
        },
        "id": "vcX18JEy2Wfo",
        "outputId": "714d0863-1dea-4257-8e00-e827cbb1a18d"
      },
      "execution_count": null,
      "outputs": [
        {
          "output_type": "execute_result",
          "data": {
            "text/plain": [
              "    Full Complaint ID  Complaint Year Number  Month Number Record Create Date  \\\n",
              "14    202004412397317                   2020             3         2020-03-28   \n",
              "15    202004412397317                   2020             3         2020-03-28   \n",
              "16    202004412397317                   2020             3         2020-03-28   \n",
              "20    202004012846517                   2020             7         2020-07-31   \n",
              "22    202004412397317                   2020             3         2020-03-28   \n",
              "\n",
              "    Complaint Precinct Code Patrol Borough Name County  \\\n",
              "14                       44   PATROL BORO BRONX  BRONX   \n",
              "15                       44   PATROL BORO BRONX  BRONX   \n",
              "16                       44   PATROL BORO BRONX  BRONX   \n",
              "20                       40   PATROL BORO BRONX  BRONX   \n",
              "22                       44   PATROL BORO BRONX  BRONX   \n",
              "\n",
              "   Law Code Category Description      Offense Description  \\\n",
              "14                        FELONY           FELONY ASSAULT   \n",
              "15                        FELONY           FELONY ASSAULT   \n",
              "16                        FELONY           FELONY ASSAULT   \n",
              "20                        FELONY  MISCELLANEOUS PENAL LAW   \n",
              "22                        FELONY           FELONY ASSAULT   \n",
              "\n",
              "         PD Code Description  ...  Arrest Id ANTI-BLACK ANTI-ASIAN  \\\n",
              "14  ASSAULT 2,1,UNCLASSIFIED  ...  B32682489      False       True   \n",
              "15  ASSAULT 2,1,UNCLASSIFIED  ...  B32682490      False       True   \n",
              "16  ASSAULT 2,1,UNCLASSIFIED  ...  B32682492      False       True   \n",
              "20   AGGRAVATED HARASSMENT 1  ...  B32692369      False       True   \n",
              "22  ASSAULT 2,1,UNCLASSIFIED  ...  B32700799      False       True   \n",
              "\n",
              "   ANTI-GAY-MALE  ANTI-WHITE  ANTI-MUSLIM  ANTI-HISPANIC  ANTI-TRANSGENDER  \\\n",
              "14         False       False        False          False             False   \n",
              "15         False       False        False          False             False   \n",
              "16         False       False        False          False             False   \n",
              "20         False       False        False          False             False   \n",
              "22         False       False        False          False             False   \n",
              "\n",
              "    ANTI- LESBIAN  ANTI-LGBT-GROUP)  \n",
              "14          False             False  \n",
              "15          False             False  \n",
              "16          False             False  \n",
              "20          False             False  \n",
              "22          False             False  \n",
              "\n",
              "[5 rows x 23 columns]"
            ],
            "text/html": [
              "\n",
              "  <div id=\"df-6f13a6d7-c7a4-45db-a6a9-66b10d701d4e\">\n",
              "    <div class=\"colab-df-container\">\n",
              "      <div>\n",
              "<style scoped>\n",
              "    .dataframe tbody tr th:only-of-type {\n",
              "        vertical-align: middle;\n",
              "    }\n",
              "\n",
              "    .dataframe tbody tr th {\n",
              "        vertical-align: top;\n",
              "    }\n",
              "\n",
              "    .dataframe thead th {\n",
              "        text-align: right;\n",
              "    }\n",
              "</style>\n",
              "<table border=\"1\" class=\"dataframe\">\n",
              "  <thead>\n",
              "    <tr style=\"text-align: right;\">\n",
              "      <th></th>\n",
              "      <th>Full Complaint ID</th>\n",
              "      <th>Complaint Year Number</th>\n",
              "      <th>Month Number</th>\n",
              "      <th>Record Create Date</th>\n",
              "      <th>Complaint Precinct Code</th>\n",
              "      <th>Patrol Borough Name</th>\n",
              "      <th>County</th>\n",
              "      <th>Law Code Category Description</th>\n",
              "      <th>Offense Description</th>\n",
              "      <th>PD Code Description</th>\n",
              "      <th>...</th>\n",
              "      <th>Arrest Id</th>\n",
              "      <th>ANTI-BLACK</th>\n",
              "      <th>ANTI-ASIAN</th>\n",
              "      <th>ANTI-GAY-MALE</th>\n",
              "      <th>ANTI-WHITE</th>\n",
              "      <th>ANTI-MUSLIM</th>\n",
              "      <th>ANTI-HISPANIC</th>\n",
              "      <th>ANTI-TRANSGENDER</th>\n",
              "      <th>ANTI- LESBIAN</th>\n",
              "      <th>ANTI-LGBT-GROUP)</th>\n",
              "    </tr>\n",
              "  </thead>\n",
              "  <tbody>\n",
              "    <tr>\n",
              "      <th>14</th>\n",
              "      <td>202004412397317</td>\n",
              "      <td>2020</td>\n",
              "      <td>3</td>\n",
              "      <td>2020-03-28</td>\n",
              "      <td>44</td>\n",
              "      <td>PATROL BORO BRONX</td>\n",
              "      <td>BRONX</td>\n",
              "      <td>FELONY</td>\n",
              "      <td>FELONY ASSAULT</td>\n",
              "      <td>ASSAULT 2,1,UNCLASSIFIED</td>\n",
              "      <td>...</td>\n",
              "      <td>B32682489</td>\n",
              "      <td>False</td>\n",
              "      <td>True</td>\n",
              "      <td>False</td>\n",
              "      <td>False</td>\n",
              "      <td>False</td>\n",
              "      <td>False</td>\n",
              "      <td>False</td>\n",
              "      <td>False</td>\n",
              "      <td>False</td>\n",
              "    </tr>\n",
              "    <tr>\n",
              "      <th>15</th>\n",
              "      <td>202004412397317</td>\n",
              "      <td>2020</td>\n",
              "      <td>3</td>\n",
              "      <td>2020-03-28</td>\n",
              "      <td>44</td>\n",
              "      <td>PATROL BORO BRONX</td>\n",
              "      <td>BRONX</td>\n",
              "      <td>FELONY</td>\n",
              "      <td>FELONY ASSAULT</td>\n",
              "      <td>ASSAULT 2,1,UNCLASSIFIED</td>\n",
              "      <td>...</td>\n",
              "      <td>B32682490</td>\n",
              "      <td>False</td>\n",
              "      <td>True</td>\n",
              "      <td>False</td>\n",
              "      <td>False</td>\n",
              "      <td>False</td>\n",
              "      <td>False</td>\n",
              "      <td>False</td>\n",
              "      <td>False</td>\n",
              "      <td>False</td>\n",
              "    </tr>\n",
              "    <tr>\n",
              "      <th>16</th>\n",
              "      <td>202004412397317</td>\n",
              "      <td>2020</td>\n",
              "      <td>3</td>\n",
              "      <td>2020-03-28</td>\n",
              "      <td>44</td>\n",
              "      <td>PATROL BORO BRONX</td>\n",
              "      <td>BRONX</td>\n",
              "      <td>FELONY</td>\n",
              "      <td>FELONY ASSAULT</td>\n",
              "      <td>ASSAULT 2,1,UNCLASSIFIED</td>\n",
              "      <td>...</td>\n",
              "      <td>B32682492</td>\n",
              "      <td>False</td>\n",
              "      <td>True</td>\n",
              "      <td>False</td>\n",
              "      <td>False</td>\n",
              "      <td>False</td>\n",
              "      <td>False</td>\n",
              "      <td>False</td>\n",
              "      <td>False</td>\n",
              "      <td>False</td>\n",
              "    </tr>\n",
              "    <tr>\n",
              "      <th>20</th>\n",
              "      <td>202004012846517</td>\n",
              "      <td>2020</td>\n",
              "      <td>7</td>\n",
              "      <td>2020-07-31</td>\n",
              "      <td>40</td>\n",
              "      <td>PATROL BORO BRONX</td>\n",
              "      <td>BRONX</td>\n",
              "      <td>FELONY</td>\n",
              "      <td>MISCELLANEOUS PENAL LAW</td>\n",
              "      <td>AGGRAVATED HARASSMENT 1</td>\n",
              "      <td>...</td>\n",
              "      <td>B32692369</td>\n",
              "      <td>False</td>\n",
              "      <td>True</td>\n",
              "      <td>False</td>\n",
              "      <td>False</td>\n",
              "      <td>False</td>\n",
              "      <td>False</td>\n",
              "      <td>False</td>\n",
              "      <td>False</td>\n",
              "      <td>False</td>\n",
              "    </tr>\n",
              "    <tr>\n",
              "      <th>22</th>\n",
              "      <td>202004412397317</td>\n",
              "      <td>2020</td>\n",
              "      <td>3</td>\n",
              "      <td>2020-03-28</td>\n",
              "      <td>44</td>\n",
              "      <td>PATROL BORO BRONX</td>\n",
              "      <td>BRONX</td>\n",
              "      <td>FELONY</td>\n",
              "      <td>FELONY ASSAULT</td>\n",
              "      <td>ASSAULT 2,1,UNCLASSIFIED</td>\n",
              "      <td>...</td>\n",
              "      <td>B32700799</td>\n",
              "      <td>False</td>\n",
              "      <td>True</td>\n",
              "      <td>False</td>\n",
              "      <td>False</td>\n",
              "      <td>False</td>\n",
              "      <td>False</td>\n",
              "      <td>False</td>\n",
              "      <td>False</td>\n",
              "      <td>False</td>\n",
              "    </tr>\n",
              "  </tbody>\n",
              "</table>\n",
              "<p>5 rows × 23 columns</p>\n",
              "</div>\n",
              "      <button class=\"colab-df-convert\" onclick=\"convertToInteractive('df-6f13a6d7-c7a4-45db-a6a9-66b10d701d4e')\"\n",
              "              title=\"Convert this dataframe to an interactive table.\"\n",
              "              style=\"display:none;\">\n",
              "        \n",
              "  <svg xmlns=\"http://www.w3.org/2000/svg\" height=\"24px\"viewBox=\"0 0 24 24\"\n",
              "       width=\"24px\">\n",
              "    <path d=\"M0 0h24v24H0V0z\" fill=\"none\"/>\n",
              "    <path d=\"M18.56 5.44l.94 2.06.94-2.06 2.06-.94-2.06-.94-.94-2.06-.94 2.06-2.06.94zm-11 1L8.5 8.5l.94-2.06 2.06-.94-2.06-.94L8.5 2.5l-.94 2.06-2.06.94zm10 10l.94 2.06.94-2.06 2.06-.94-2.06-.94-.94-2.06-.94 2.06-2.06.94z\"/><path d=\"M17.41 7.96l-1.37-1.37c-.4-.4-.92-.59-1.43-.59-.52 0-1.04.2-1.43.59L10.3 9.45l-7.72 7.72c-.78.78-.78 2.05 0 2.83L4 21.41c.39.39.9.59 1.41.59.51 0 1.02-.2 1.41-.59l7.78-7.78 2.81-2.81c.8-.78.8-2.07 0-2.86zM5.41 20L4 18.59l7.72-7.72 1.47 1.35L5.41 20z\"/>\n",
              "  </svg>\n",
              "      </button>\n",
              "      \n",
              "  <style>\n",
              "    .colab-df-container {\n",
              "      display:flex;\n",
              "      flex-wrap:wrap;\n",
              "      gap: 12px;\n",
              "    }\n",
              "\n",
              "    .colab-df-convert {\n",
              "      background-color: #E8F0FE;\n",
              "      border: none;\n",
              "      border-radius: 50%;\n",
              "      cursor: pointer;\n",
              "      display: none;\n",
              "      fill: #1967D2;\n",
              "      height: 32px;\n",
              "      padding: 0 0 0 0;\n",
              "      width: 32px;\n",
              "    }\n",
              "\n",
              "    .colab-df-convert:hover {\n",
              "      background-color: #E2EBFA;\n",
              "      box-shadow: 0px 1px 2px rgba(60, 64, 67, 0.3), 0px 1px 3px 1px rgba(60, 64, 67, 0.15);\n",
              "      fill: #174EA6;\n",
              "    }\n",
              "\n",
              "    [theme=dark] .colab-df-convert {\n",
              "      background-color: #3B4455;\n",
              "      fill: #D2E3FC;\n",
              "    }\n",
              "\n",
              "    [theme=dark] .colab-df-convert:hover {\n",
              "      background-color: #434B5C;\n",
              "      box-shadow: 0px 1px 3px 1px rgba(0, 0, 0, 0.15);\n",
              "      filter: drop-shadow(0px 1px 2px rgba(0, 0, 0, 0.3));\n",
              "      fill: #FFFFFF;\n",
              "    }\n",
              "  </style>\n",
              "\n",
              "      <script>\n",
              "        const buttonEl =\n",
              "          document.querySelector('#df-6f13a6d7-c7a4-45db-a6a9-66b10d701d4e button.colab-df-convert');\n",
              "        buttonEl.style.display =\n",
              "          google.colab.kernel.accessAllowed ? 'block' : 'none';\n",
              "\n",
              "        async function convertToInteractive(key) {\n",
              "          const element = document.querySelector('#df-6f13a6d7-c7a4-45db-a6a9-66b10d701d4e');\n",
              "          const dataTable =\n",
              "            await google.colab.kernel.invokeFunction('convertToInteractive',\n",
              "                                                     [key], {});\n",
              "          if (!dataTable) return;\n",
              "\n",
              "          const docLinkHtml = 'Like what you see? Visit the ' +\n",
              "            '<a target=\"_blank\" href=https://colab.research.google.com/notebooks/data_table.ipynb>data table notebook</a>'\n",
              "            + ' to learn more about interactive tables.';\n",
              "          element.innerHTML = '';\n",
              "          dataTable['output_type'] = 'display_data';\n",
              "          await google.colab.output.renderOutput(dataTable, element);\n",
              "          const docLink = document.createElement('div');\n",
              "          docLink.innerHTML = docLinkHtml;\n",
              "          element.appendChild(docLink);\n",
              "        }\n",
              "      </script>\n",
              "    </div>\n",
              "  </div>\n",
              "  "
            ]
          },
          "metadata": {},
          "execution_count": 38
        }
      ]
    },
    {
      "cell_type": "code",
      "source": [
        "black_2019.shape"
      ],
      "metadata": {
        "colab": {
          "base_uri": "https://localhost:8080/"
        },
        "id": "o1s7B_SdeCSz",
        "outputId": "20bad047-0df7-4208-b6e3-340c2778b729"
      },
      "execution_count": null,
      "outputs": [
        {
          "output_type": "execute_result",
          "data": {
            "text/plain": [
              "(37, 23)"
            ]
          },
          "metadata": {},
          "execution_count": 39
        }
      ]
    },
    {
      "cell_type": "code",
      "source": [
        "black_2021.shape"
      ],
      "metadata": {
        "colab": {
          "base_uri": "https://localhost:8080/"
        },
        "id": "DmFMeTc7eCBi",
        "outputId": "39244938-a35c-4c17-b6f6-54094356537e"
      },
      "execution_count": null,
      "outputs": [
        {
          "output_type": "execute_result",
          "data": {
            "text/plain": [
              "(41, 23)"
            ]
          },
          "metadata": {},
          "execution_count": 40
        }
      ]
    },
    {
      "cell_type": "code",
      "source": [
        "asian_2019.shape"
      ],
      "metadata": {
        "colab": {
          "base_uri": "https://localhost:8080/"
        },
        "id": "TQuTY2LBmI_q",
        "outputId": "eb2a20fb-4439-4b77-c0c6-150e1c0cf3c6"
      },
      "execution_count": null,
      "outputs": [
        {
          "output_type": "execute_result",
          "data": {
            "text/plain": [
              "(1, 23)"
            ]
          },
          "metadata": {},
          "execution_count": 41
        }
      ]
    },
    {
      "cell_type": "code",
      "source": [
        "asian_2020.shape"
      ],
      "metadata": {
        "colab": {
          "base_uri": "https://localhost:8080/"
        },
        "id": "X337oMkXmQDJ",
        "outputId": "c41d3f6f-7c0a-40f6-bdbc-8bb68b3accab"
      },
      "execution_count": null,
      "outputs": [
        {
          "output_type": "execute_result",
          "data": {
            "text/plain": [
              "(33, 23)"
            ]
          },
          "metadata": {},
          "execution_count": 42
        }
      ]
    },
    {
      "cell_type": "code",
      "source": [
        "asian_2021.shape"
      ],
      "metadata": {
        "colab": {
          "base_uri": "https://localhost:8080/"
        },
        "id": "cW_clgOWmTR2",
        "outputId": "6211c6e9-1dee-4128-fce5-8fbe27bbf576"
      },
      "execution_count": null,
      "outputs": [
        {
          "output_type": "execute_result",
          "data": {
            "text/plain": [
              "(144, 23)"
            ]
          },
          "metadata": {},
          "execution_count": 43
        }
      ]
    },
    {
      "cell_type": "code",
      "source": [
        "trans_2019.shape"
      ],
      "metadata": {
        "colab": {
          "base_uri": "https://localhost:8080/"
        },
        "id": "KCK_Y4T5LUqK",
        "outputId": "366469d5-e274-4d39-f9cb-0926ab80ba42"
      },
      "execution_count": null,
      "outputs": [
        {
          "output_type": "execute_result",
          "data": {
            "text/plain": [
              "(13, 23)"
            ]
          },
          "metadata": {},
          "execution_count": 44
        }
      ]
    },
    {
      "cell_type": "code",
      "source": [
        "trans_2020.shape"
      ],
      "metadata": {
        "colab": {
          "base_uri": "https://localhost:8080/"
        },
        "id": "pwVTR9HlKOUb",
        "outputId": "36444c29-0592-465c-eb8a-eef5d3846523"
      },
      "execution_count": null,
      "outputs": [
        {
          "output_type": "execute_result",
          "data": {
            "text/plain": [
              "(4, 23)"
            ]
          },
          "metadata": {},
          "execution_count": 45
        }
      ]
    },
    {
      "cell_type": "code",
      "source": [
        "trans_2021.shape"
      ],
      "metadata": {
        "id": "YpR2wECVmifU",
        "outputId": "4a4eec8b-9e72-418a-d680-8cb493b52b83",
        "colab": {
          "base_uri": "https://localhost:8080/"
        }
      },
      "execution_count": null,
      "outputs": [
        {
          "output_type": "execute_result",
          "data": {
            "text/plain": [
              "(18, 23)"
            ]
          },
          "metadata": {},
          "execution_count": 46
        }
      ]
    },
    {
      "cell_type": "code",
      "source": [
        "white_2019.shape"
      ],
      "metadata": {
        "colab": {
          "base_uri": "https://localhost:8080/"
        },
        "id": "OwujInBedgli",
        "outputId": "1936a26f-8232-4856-c653-6876cc07c145"
      },
      "execution_count": null,
      "outputs": [
        {
          "output_type": "execute_result",
          "data": {
            "text/plain": [
              "(28, 23)"
            ]
          },
          "metadata": {},
          "execution_count": 47
        }
      ]
    },
    {
      "cell_type": "code",
      "source": [
        "white_2020.shape"
      ],
      "metadata": {
        "colab": {
          "base_uri": "https://localhost:8080/"
        },
        "id": "cUmQYMtJdog_",
        "outputId": "9be07743-288c-4e5b-9bf4-0792290fe5a3"
      },
      "execution_count": null,
      "outputs": [
        {
          "output_type": "execute_result",
          "data": {
            "text/plain": [
              "(10, 23)"
            ]
          },
          "metadata": {},
          "execution_count": 48
        }
      ]
    },
    {
      "cell_type": "code",
      "source": [
        "white_2021.shape"
      ],
      "metadata": {
        "colab": {
          "base_uri": "https://localhost:8080/"
        },
        "id": "2G8_WHhWdswB",
        "outputId": "0aae2032-26f8-4682-dc4b-b04b36ce3c0c"
      },
      "execution_count": null,
      "outputs": [
        {
          "output_type": "execute_result",
          "data": {
            "text/plain": [
              "(18, 23)"
            ]
          },
          "metadata": {},
          "execution_count": 49
        }
      ]
    },
    {
      "cell_type": "code",
      "source": [
        "hispanic_2019.shape"
      ],
      "metadata": {
        "colab": {
          "base_uri": "https://localhost:8080/"
        },
        "id": "5t-Qo3Gwd2RS",
        "outputId": "78aad1a0-13a3-46a9-b6eb-cbd4220c464e"
      },
      "execution_count": null,
      "outputs": [
        {
          "output_type": "execute_result",
          "data": {
            "text/plain": [
              "(9, 23)"
            ]
          },
          "metadata": {},
          "execution_count": 50
        }
      ]
    },
    {
      "cell_type": "code",
      "source": [
        "hispanic_2020.shape"
      ],
      "metadata": {
        "colab": {
          "base_uri": "https://localhost:8080/"
        },
        "id": "T1gCR0K5d70o",
        "outputId": "b0bcacfc-4cbe-4530-970c-312d27e1b302"
      },
      "execution_count": null,
      "outputs": [
        {
          "output_type": "execute_result",
          "data": {
            "text/plain": [
              "(1, 23)"
            ]
          },
          "metadata": {},
          "execution_count": 51
        }
      ]
    },
    {
      "cell_type": "code",
      "source": [
        "#import pandas as pd\n",
        "#df = pd.read_json('https://data.cityofnewyork.us/resource/bqiq-cu78.json')\n",
        "#biases_of_interest = ['ANTI-BLACK','ANTI-ASIAN', 'ANTI-GAY-MALE']\n",
        "#df_2 = df[df['bias_motive_description'].isin(biases_of_interest)]\n",
        "#df_2'''"
      ],
      "metadata": {
        "id": "3F1fEkqfEnJ6"
      },
      "execution_count": null,
      "outputs": []
    },
    {
      "cell_type": "markdown",
      "source": [
        "## EDA'\n",
        "\n",
        "PLOT WHAT CRIMES Offense Description &\tPD Code Description\twas more potent for each race (bar)\n",
        "\n",
        "1. asian\n",
        "2. black\n",
        "\n",
        "4. white\n",
        "\n",
        "\n",
        "plot a chart to see where each crime was commited the most in each year using pie"
      ],
      "metadata": {
        "id": "Ywja_NHhL-lB"
      }
    },
    {
      "cell_type": "code",
      "source": [
        "asian_2019.columns"
      ],
      "metadata": {
        "colab": {
          "base_uri": "https://localhost:8080/"
        },
        "id": "uU5STyRnNPJX",
        "outputId": "0bf3af3d-9223-4db4-e15e-c289ff99fa4e"
      },
      "execution_count": null,
      "outputs": [
        {
          "output_type": "execute_result",
          "data": {
            "text/plain": [
              "Index(['Full Complaint ID', 'Complaint Year Number', 'Month Number',\n",
              "       'Record Create Date', 'Complaint Precinct Code', 'Patrol Borough Name',\n",
              "       'County', 'Law Code Category Description', 'Offense Description',\n",
              "       'PD Code Description', 'Bias Motive Description', 'Offense Category',\n",
              "       'Arrest Date', 'Arrest Id', 'ANTI-BLACK', 'ANTI-ASIAN', 'ANTI-GAY-MALE',\n",
              "       'ANTI-WHITE', 'ANTI-MUSLIM', 'ANTI-HISPANIC', 'ANTI-TRANSGENDER',\n",
              "       'ANTI- LESBIAN', 'ANTI-LGBT-GROUP)'],\n",
              "      dtype='object')"
            ]
          },
          "metadata": {},
          "execution_count": 53
        }
      ]
    },
    {
      "cell_type": "code",
      "source": [
        "#types of crimes\n",
        "\n",
        "black_2019['Offense Description'].value_counts().sort_values().plot(kind=\"barh\", color = 'green' , title = \"Types of Crimes\")"
      ],
      "metadata": {
        "colab": {
          "base_uri": "https://localhost:8080/",
          "height": 298
        },
        "id": "kzuE2hPvU-rV",
        "outputId": "4af1af12-3dcf-420c-aa6d-8246377694e5"
      },
      "execution_count": null,
      "outputs": [
        {
          "output_type": "execute_result",
          "data": {
            "text/plain": [
              "<matplotlib.axes._subplots.AxesSubplot at 0x7fc1296018d0>"
            ]
          },
          "metadata": {},
          "execution_count": 54
        },
        {
          "output_type": "display_data",
          "data": {
            "text/plain": [
              "<Figure size 432x288 with 1 Axes>"
            ],
            "image/png": "[encoded data removed]"
          },
          "metadata": {
            "needs_background": "light"
          }
        }
      ]
    },
    {
      "cell_type": "code",
      "source": [
        "#types of crimes\n",
        "black_2020['Offense Description'].value_counts().sort_values().plot(kind=\"barh\", color = 'green' , title = \"Types of Crimes\")"
      ],
      "metadata": {
        "colab": {
          "base_uri": "https://localhost:8080/",
          "height": 298
        },
        "id": "mO6xMslYVs28",
        "outputId": "44f6dd3e-dcdc-4f80-b7b6-1b4ebab14d5b"
      },
      "execution_count": null,
      "outputs": [
        {
          "output_type": "execute_result",
          "data": {
            "text/plain": [
              "<matplotlib.axes._subplots.AxesSubplot at 0x7fc12953d710>"
            ]
          },
          "metadata": {},
          "execution_count": 55
        },
        {
          "output_type": "display_data",
          "data": {
            "text/plain": [
              "<Figure size 432x288 with 1 Axes>"
            ],
            "image/png": "[encoded data removed]"
          },
          "metadata": {
            "needs_background": "light"
          }
        }
      ]
    },
    {
      "cell_type": "code",
      "source": [
        "#Types of Crime\n",
        "asian_2020['Offense Description'].value_counts().sort_values().plot(kind=\"barh\", color = 'black' , title = \"Types of Crimes\")"
      ],
      "metadata": {
        "colab": {
          "base_uri": "https://localhost:8080/",
          "height": 298
        },
        "id": "li5HHiyzbDZ2",
        "outputId": "67f057dc-8914-4309-c842-9830e6ae86cc"
      },
      "execution_count": null,
      "outputs": [
        {
          "output_type": "execute_result",
          "data": {
            "text/plain": [
              "<matplotlib.axes._subplots.AxesSubplot at 0x7fc1290988d0>"
            ]
          },
          "metadata": {},
          "execution_count": 56
        },
        {
          "output_type": "display_data",
          "data": {
            "text/plain": [
              "<Figure size 432x288 with 1 Axes>"
            ],
            "image/png": "[encoded data removed]"
          },
          "metadata": {
            "needs_background": "light"
          }
        }
      ]
    },
    {
      "cell_type": "code",
      "source": [
        "#Types of Crime\n",
        "\n",
        "black['County'].value_counts().sort_values().plot(kind=\"barh\", color = 'black' , title = \"Types of Crimes\")"
      ],
      "metadata": {
        "colab": {
          "base_uri": "https://localhost:8080/",
          "height": 298
        },
        "id": "zwR9ipP6cEXD",
        "outputId": "cdf0955f-723e-4612-d59b-84a36d8a5f84"
      },
      "execution_count": null,
      "outputs": [
        {
          "output_type": "execute_result",
          "data": {
            "text/plain": [
              "<matplotlib.axes._subplots.AxesSubplot at 0x7fc1290137d0>"
            ]
          },
          "metadata": {},
          "execution_count": 57
        },
        {
          "output_type": "display_data",
          "data": {
            "text/plain": [
              "<Figure size 432x288 with 1 Axes>"
            ],
            "image/png": "[encoded data removed]"
          },
          "metadata": {
            "needs_background": "light"
          }
        }
      ]
    },
    {
      "cell_type": "code",
      "source": [
        "black['County'].value_counts().sort_values()"
      ],
      "metadata": {
        "colab": {
          "base_uri": "https://localhost:8080/"
        },
        "id": "mrOCDWzN3rWf",
        "outputId": "32da1e2e-be1e-45fc-8e98-4446781b10b1"
      },
      "execution_count": null,
      "outputs": [
        {
          "output_type": "execute_result",
          "data": {
            "text/plain": [
              "BRONX             9\n",
              "STATEN ISLAND    17\n",
              "QUEENS           24\n",
              "MANHATTAN        31\n",
              "BROOKLYN         33\n",
              "Name: County, dtype: int64"
            ]
          },
          "metadata": {},
          "execution_count": 58
        }
      ]
    },
    {
      "cell_type": "code",
      "source": [
        "black_2020['County'].value_counts().sort_values()"
      ],
      "metadata": {
        "colab": {
          "base_uri": "https://localhost:8080/"
        },
        "id": "Nsm0d98u33wp",
        "outputId": "136c33fe-55aa-4bed-cf8b-fa4ac8687a3d"
      },
      "execution_count": null,
      "outputs": [
        {
          "output_type": "execute_result",
          "data": {
            "text/plain": [
              "BRONX             3\n",
              "STATEN ISLAND     6\n",
              "BROOKLYN          6\n",
              "MANHATTAN        10\n",
              "QUEENS           11\n",
              "Name: County, dtype: int64"
            ]
          },
          "metadata": {},
          "execution_count": 59
        }
      ]
    },
    {
      "cell_type": "code",
      "source": [
        "black_2021['County'].value_counts().sort_values()"
      ],
      "metadata": {
        "colab": {
          "base_uri": "https://localhost:8080/"
        },
        "id": "-0guJse54X7T",
        "outputId": "a62a0d0e-c5c8-46bf-b091-25d2d09aab06"
      },
      "execution_count": null,
      "outputs": [
        {
          "output_type": "execute_result",
          "data": {
            "text/plain": [
              "BRONX             3\n",
              "QUEENS            7\n",
              "MANHATTAN         8\n",
              "STATEN ISLAND     8\n",
              "BROOKLYN         15\n",
              "Name: County, dtype: int64"
            ]
          },
          "metadata": {},
          "execution_count": 60
        }
      ]
    },
    {
      "cell_type": "code",
      "source": [
        "black_2019['County'].value_counts().sort_values()"
      ],
      "metadata": {
        "colab": {
          "base_uri": "https://localhost:8080/"
        },
        "id": "v0DCmelG4aKY",
        "outputId": "06963b65-1614-470f-c3a7-f9400d3e6b8f"
      },
      "execution_count": null,
      "outputs": [
        {
          "output_type": "execute_result",
          "data": {
            "text/plain": [
              "BRONX             3\n",
              "STATEN ISLAND     3\n",
              "QUEENS            6\n",
              "BROOKLYN         12\n",
              "MANHATTAN        13\n",
              "Name: County, dtype: int64"
            ]
          },
          "metadata": {},
          "execution_count": 61
        }
      ]
    },
    {
      "cell_type": "code",
      "source": [
        "#county\n",
        "asian['County'].value_counts().sort_values().plot(kind=\"barh\", color = 'red', title = 'Total of Crime Events by Borough')\n"
      ],
      "metadata": {
        "colab": {
          "base_uri": "https://localhost:8080/",
          "height": 298
        },
        "id": "3DidSUGdt41R",
        "outputId": "6e6aba7a-effd-47f3-c4a1-23b704636a8b"
      },
      "execution_count": null,
      "outputs": [
        {
          "output_type": "execute_result",
          "data": {
            "text/plain": [
              "<matplotlib.axes._subplots.AxesSubplot at 0x7fc128f99550>"
            ]
          },
          "metadata": {},
          "execution_count": 62
        },
        {
          "output_type": "display_data",
          "data": {
            "text/plain": [
              "<Figure size 432x288 with 1 Axes>"
            ],
            "image/png": "[encoded data removed]"
          },
          "metadata": {
            "needs_background": "light"
          }
        }
      ]
    },
    {
      "cell_type": "code",
      "source": [
        "#county\n",
        "white['County'].value_counts().sort_values().plot(kind=\"barh\",  title = 'Total of Crime Events by Borough')\n"
      ],
      "metadata": {
        "colab": {
          "base_uri": "https://localhost:8080/",
          "height": 298
        },
        "id": "3E573k9mugW4",
        "outputId": "9f8a6548-d38b-4ee0-dc0c-4d0216002cd1"
      },
      "execution_count": null,
      "outputs": [
        {
          "output_type": "execute_result",
          "data": {
            "text/plain": [
              "<matplotlib.axes._subplots.AxesSubplot at 0x7fc128f15250>"
            ]
          },
          "metadata": {},
          "execution_count": 63
        },
        {
          "output_type": "display_data",
          "data": {
            "text/plain": [
              "<Figure size 432x288 with 1 Axes>"
            ],
            "image/png": "[encoded data removed]"
          },
          "metadata": {
            "needs_background": "light"
          }
        }
      ]
    },
    {
      "cell_type": "code",
      "source": [
        "#types of crimes\n",
        "muslim_2019['Offense Description'].value_counts().sort_values().plot(kind=\"barh\", color = 'green' , title = \"Types of Crimes\")"
      ],
      "metadata": {
        "colab": {
          "base_uri": "https://localhost:8080/",
          "height": 298
        },
        "id": "86uLNuaUvCdE",
        "outputId": "c0b66545-df92-4460-964d-b61df78deb35"
      },
      "execution_count": null,
      "outputs": [
        {
          "output_type": "execute_result",
          "data": {
            "text/plain": [
              "<matplotlib.axes._subplots.AxesSubplot at 0x7fc128e82e50>"
            ]
          },
          "metadata": {},
          "execution_count": 64
        },
        {
          "output_type": "display_data",
          "data": {
            "text/plain": [
              "<Figure size 432x288 with 1 Axes>"
            ],
            "image/png": "[encoded data removed]"
          },
          "metadata": {
            "needs_background": "light"
          }
        }
      ]
    },
    {
      "cell_type": "code",
      "source": [
        "#types of crimes\n",
        "muslim_2020['Offense Description'].value_counts().sort_values().plot(kind=\"barh\", color = 'green' , title = \"Types of Crimes\")"
      ],
      "metadata": {
        "colab": {
          "base_uri": "https://localhost:8080/",
          "height": 298
        },
        "id": "uFHDY5f9vFZB",
        "outputId": "70d99257-e352-46c6-bc3d-0b2f458e57e4"
      },
      "execution_count": null,
      "outputs": [
        {
          "output_type": "execute_result",
          "data": {
            "text/plain": [
              "<matplotlib.axes._subplots.AxesSubplot at 0x7fc128e0a850>"
            ]
          },
          "metadata": {},
          "execution_count": 65
        },
        {
          "output_type": "display_data",
          "data": {
            "text/plain": [
              "<Figure size 432x288 with 1 Axes>"
            ],
            "image/png": "[encoded data removed]"
          },
          "metadata": {
            "needs_background": "light"
          }
        }
      ]
    },
    {
      "cell_type": "code",
      "source": [
        "muslim_2020['Offense Description'].value_counts()"
      ],
      "metadata": {
        "colab": {
          "base_uri": "https://localhost:8080/"
        },
        "id": "cRXNPZe6vUPp",
        "outputId": "ccae17d4-0d76-4e07-ee5c-c78687c64dac"
      },
      "execution_count": null,
      "outputs": [
        {
          "output_type": "execute_result",
          "data": {
            "text/plain": [
              "FELONY ASSAULT                  3\n",
              "ASSAULT 3 & RELATED OFFENSES    2\n",
              "Name: Offense Description, dtype: int64"
            ]
          },
          "metadata": {},
          "execution_count": 66
        }
      ]
    },
    {
      "cell_type": "code",
      "source": [
        "#types of crimes\n",
        "\n",
        "white_2019['Offense Description'].value_counts().sort_values().plot(kind=\"barh\", color = 'green' , title = \"Types of Crimes\")"
      ],
      "metadata": {
        "colab": {
          "base_uri": "https://localhost:8080/",
          "height": 298
        },
        "id": "X9UL5PjOyQN8",
        "outputId": "955430b7-a97e-4e1c-db32-31b5087ddaf2"
      },
      "execution_count": null,
      "outputs": [
        {
          "output_type": "execute_result",
          "data": {
            "text/plain": [
              "<matplotlib.axes._subplots.AxesSubplot at 0x7fc128d7f690>"
            ]
          },
          "metadata": {},
          "execution_count": 67
        },
        {
          "output_type": "display_data",
          "data": {
            "text/plain": [
              "<Figure size 432x288 with 1 Axes>"
            ],
            "image/png": "[encoded data removed]"
          },
          "metadata": {
            "needs_background": "light"
          }
        }
      ]
    },
    {
      "cell_type": "code",
      "source": [
        "#types of crimes\n",
        "\n",
        "white_2020['Offense Description'].value_counts().sort_values().plot(kind=\"barh\", color = 'green' , title = \"Types of Crimes\")"
      ],
      "metadata": {
        "colab": {
          "base_uri": "https://localhost:8080/",
          "height": 298
        },
        "id": "sp56uFwsyRo3",
        "outputId": "c6d82da0-208b-4e77-f20d-e3936aee95dd"
      },
      "execution_count": null,
      "outputs": [
        {
          "output_type": "execute_result",
          "data": {
            "text/plain": [
              "<matplotlib.axes._subplots.AxesSubplot at 0x7fc128cf9cd0>"
            ]
          },
          "metadata": {},
          "execution_count": 68
        },
        {
          "output_type": "display_data",
          "data": {
            "text/plain": [
              "<Figure size 432x288 with 1 Axes>"
            ],
            "image/png": "[encoded data removed]"
          },
          "metadata": {
            "needs_background": "light"
          }
        }
      ]
    },
    {
      "cell_type": "code",
      "source": [
        "#types of crimes\n",
        "\n",
        "white_2021['Offense Description'].value_counts().sort_values().plot(kind=\"barh\", color = 'green' , title = \"Types of Crimes\")"
      ],
      "metadata": {
        "colab": {
          "base_uri": "https://localhost:8080/",
          "height": 298
        },
        "id": "omhQwKrbyR_T",
        "outputId": "7531537c-41c2-4c49-e2a2-273d4afb42ca"
      },
      "execution_count": null,
      "outputs": [
        {
          "output_type": "execute_result",
          "data": {
            "text/plain": [
              "<matplotlib.axes._subplots.AxesSubplot at 0x7fc128c789d0>"
            ]
          },
          "metadata": {},
          "execution_count": 69
        },
        {
          "output_type": "display_data",
          "data": {
            "text/plain": [
              "<Figure size 432x288 with 1 Axes>"
            ],
            "image/png": "[encoded data removed]"
          },
          "metadata": {
            "needs_background": "light"
          }
        }
      ]
    },
    {
      "cell_type": "code",
      "source": [
        "#county\n",
        "white_2019['County'].value_counts().sort_values().plot(kind=\"barh\", color = 'purple', title = 'Total of Crime Events by Borough')"
      ],
      "metadata": {
        "colab": {
          "base_uri": "https://localhost:8080/",
          "height": 298
        },
        "id": "foEDPtDvztZE",
        "outputId": "ac6ff4aa-c4b4-4f29-d0f0-ab67ecc5a72d"
      },
      "execution_count": null,
      "outputs": [
        {
          "output_type": "execute_result",
          "data": {
            "text/plain": [
              "<matplotlib.axes._subplots.AxesSubplot at 0x7fc128c6e410>"
            ]
          },
          "metadata": {},
          "execution_count": 70
        },
        {
          "output_type": "display_data",
          "data": {
            "text/plain": [
              "<Figure size 432x288 with 1 Axes>"
            ],
            "image/png": "[encoded data removed]"
          },
          "metadata": {
            "needs_background": "light"
          }
        }
      ]
    },
    {
      "cell_type": "code",
      "source": [
        "#county\n",
        "white_2020['County'].value_counts().sort_values().plot(kind=\"barh\", color = 'purple', title = 'Total of Crime Events by Borough')"
      ],
      "metadata": {
        "colab": {
          "base_uri": "https://localhost:8080/",
          "height": 298
        },
        "id": "l_23MkthztNl",
        "outputId": "049a9640-edd6-49b6-e905-fc465a17de10"
      },
      "execution_count": null,
      "outputs": [
        {
          "output_type": "execute_result",
          "data": {
            "text/plain": [
              "<matplotlib.axes._subplots.AxesSubplot at 0x7fc128bd5bd0>"
            ]
          },
          "metadata": {},
          "execution_count": 71
        },
        {
          "output_type": "display_data",
          "data": {
            "text/plain": [
              "<Figure size 432x288 with 1 Axes>"
            ],
            "image/png": "[encoded data removed]"
          },
          "metadata": {
            "needs_background": "light"
          }
        }
      ]
    },
    {
      "cell_type": "code",
      "source": [
        "#county\n",
        "white_2021['County'].value_counts().sort_values().plot(kind=\"barh\", color = 'purple', title = 'Total of Crime Events by Borough')"
      ],
      "metadata": {
        "colab": {
          "base_uri": "https://localhost:8080/",
          "height": 298
        },
        "id": "hcOEY1Dkzs9h",
        "outputId": "4f633292-0e7f-460d-8c69-2f88872bca9a"
      },
      "execution_count": null,
      "outputs": [
        {
          "output_type": "execute_result",
          "data": {
            "text/plain": [
              "<matplotlib.axes._subplots.AxesSubplot at 0x7fc128b4dd90>"
            ]
          },
          "metadata": {},
          "execution_count": 72
        },
        {
          "output_type": "display_data",
          "data": {
            "text/plain": [
              "<Figure size 432x288 with 1 Axes>"
            ],
            "image/png": "[encoded data removed]"
          },
          "metadata": {
            "needs_background": "light"
          }
        }
      ]
    },
    {
      "cell_type": "code",
      "source": [
        "df['Offense Description'].unique()"
      ],
      "metadata": {
        "colab": {
          "base_uri": "https://localhost:8080/"
        },
        "id": "VK39gwusvWhh",
        "outputId": "ecb841fd-8883-43c7-bfb5-9fca10082365"
      },
      "execution_count": null,
      "outputs": [
        {
          "output_type": "execute_result",
          "data": {
            "text/plain": [
              "array(['FELONY ASSAULT', 'ASSAULT 3 & RELATED OFFENSES', 'ROBBERY',\n",
              "       'RAPE', 'MISCELLANEOUS PENAL LAW',\n",
              "       'OFFENSES AGAINST PUBLIC ORDER/ADMINISTRATION',\n",
              "       'CRIMINAL MISCHIEF', 'BURGLARY', 'CRIMINAL TRESPASS',\n",
              "       'Murder/Non-negligent Manslaughter', 'DANGEROUS WEAPONS',\n",
              "       'GRAND LARCENY', 'SEX CRIMES', 'HARRASSMENT',\n",
              "       'INVESTIGATIONS/COMPLAINTS ONLY', 'FRAUDS', 'PETIT LARCENY'],\n",
              "      dtype=object)"
            ]
          },
          "metadata": {},
          "execution_count": 73
        }
      ]
    },
    {
      "cell_type": "code",
      "source": [
        "labels = df[\"Offense Description\"].unique()"
      ],
      "metadata": {
        "id": "JmoXuk89up7d"
      },
      "execution_count": null,
      "outputs": []
    },
    {
      "cell_type": "code",
      "source": [
        "labels"
      ],
      "metadata": {
        "colab": {
          "base_uri": "https://localhost:8080/"
        },
        "id": "D7HzVbb2yNqh",
        "outputId": "63ae4e5f-90e0-473f-cfe5-0e1fdc195ac2"
      },
      "execution_count": null,
      "outputs": [
        {
          "output_type": "execute_result",
          "data": {
            "text/plain": [
              "array(['FELONY ASSAULT', 'ASSAULT 3 & RELATED OFFENSES', 'ROBBERY',\n",
              "       'RAPE', 'MISCELLANEOUS PENAL LAW',\n",
              "       'OFFENSES AGAINST PUBLIC ORDER/ADMINISTRATION',\n",
              "       'CRIMINAL MISCHIEF', 'BURGLARY', 'CRIMINAL TRESPASS',\n",
              "       'Murder/Non-negligent Manslaughter', 'DANGEROUS WEAPONS',\n",
              "       'GRAND LARCENY', 'SEX CRIMES', 'HARRASSMENT',\n",
              "       'INVESTIGATIONS/COMPLAINTS ONLY', 'FRAUDS', 'PETIT LARCENY'],\n",
              "      dtype=object)"
            ]
          },
          "metadata": {},
          "execution_count": 75
        }
      ]
    },
    {
      "cell_type": "code",
      "source": [
        "asian_crime_2019 = asian_2019[\"Offense Description\"].value_counts()\n",
        "asian_crime_2020 = asian_2020[\"Offense Description\"].value_counts()\n",
        "asian_crime_2021 = asian_2021[\"Offense Description\"].value_counts()\n",
        "\n",
        "\n",
        "white_crime_2019 = white_2019[\"Offense Description\"].value_counts()\n",
        "white_crime_2020 = white_2020[\"Offense Description\"].value_counts()\n",
        "white_crime_2021 = white_2021[\"Offense Description\"].value_counts()\n",
        "\n",
        "african_american_crime_2019 = black_2019[\"Offense Description\"].value_counts()\n",
        "african_american_crime_2020 = black_2020[\"Offense Description\"].value_counts()\n",
        "african_american_crime_2021 = black_2021[\"Offense Description\"].value_counts()\n",
        "\n"
      ],
      "metadata": {
        "id": "fsXTlIO2hd8A"
      },
      "execution_count": null,
      "outputs": []
    },
    {
      "cell_type": "code",
      "source": [
        "trans_crime_2019 = trans_2019[\"Offense Description\"].value_counts()\n",
        "trans_crime_2020 = trans_2020[\"Offense Description\"].value_counts()\n",
        "trans_crime_2021 = trans_2021[\"Offense Description\"].value_counts()"
      ],
      "metadata": {
        "id": "6wqX1hv2aeDb"
      },
      "execution_count": null,
      "outputs": []
    },
    {
      "cell_type": "markdown",
      "source": [
        "Forloop that add 0 for any value in \"Offense Description\" that is not in data.\n",
        "\n",
        "to avoid syntax error\n"
      ],
      "metadata": {
        "id": "3lmn5Hlvlnl-"
      }
    },
    {
      "cell_type": "code",
      "source": [
        "for crime in labels:\n",
        "    if crime in african_american_crime_2019.index:\n",
        "        pass\n",
        "    else:\n",
        "        african_american_crime_2019[crime] = 0"
      ],
      "metadata": {
        "id": "-V9LUz-vegFe"
      },
      "execution_count": null,
      "outputs": []
    },
    {
      "cell_type": "code",
      "source": [
        "for crime in labels:\n",
        "    if crime in african_american_crime_2020.index:\n",
        "        pass\n",
        "    else:\n",
        "        african_american_crime_2020[crime] = 0"
      ],
      "metadata": {
        "id": "-qwtBZ_vfcAg"
      },
      "execution_count": null,
      "outputs": []
    },
    {
      "cell_type": "code",
      "source": [
        "for crime in labels:\n",
        "    if crime in african_american_crime_2021.index:\n",
        "        pass\n",
        "    else:\n",
        "        african_american_crime_2021[crime] = 0"
      ],
      "metadata": {
        "id": "4nqAB3CPfgBL"
      },
      "execution_count": null,
      "outputs": []
    },
    {
      "cell_type": "code",
      "source": [
        "for crime in labels:\n",
        "    if crime in white_crime_2019.index:\n",
        "        pass\n",
        "    else:\n",
        "        white_crime_2019[crime] = 0"
      ],
      "metadata": {
        "id": "m4qB6i3pfpwN"
      },
      "execution_count": null,
      "outputs": []
    },
    {
      "cell_type": "code",
      "source": [
        "for crime in labels:\n",
        "    if crime in white_crime_2020.index:\n",
        "        pass\n",
        "    else:\n",
        "        white_crime_2020[crime] = 0"
      ],
      "metadata": {
        "id": "ZJxdRJ_ffmMK"
      },
      "execution_count": null,
      "outputs": []
    },
    {
      "cell_type": "code",
      "source": [
        "for crime in labels:\n",
        "    if crime in white_crime_2021.index:\n",
        "        pass\n",
        "    else:\n",
        "        white_crime_2021[crime] = 0"
      ],
      "metadata": {
        "id": "rTtos_Jicev-"
      },
      "execution_count": null,
      "outputs": []
    },
    {
      "cell_type": "code",
      "source": [
        "for crime in labels:\n",
        "    if crime in asian_crime_2019.index:\n",
        "        pass\n",
        "    else:\n",
        "        asian_crime_2019[crime] = 0"
      ],
      "metadata": {
        "id": "QxqFVmVsfyXx"
      },
      "execution_count": null,
      "outputs": []
    },
    {
      "cell_type": "code",
      "source": [
        "for crime in labels:\n",
        "    if crime in asian_crime_2020.index:\n",
        "        pass\n",
        "    else:\n",
        "        asian_crime_2020[crime] = 0"
      ],
      "metadata": {
        "id": "94wdw3BhfzLA"
      },
      "execution_count": null,
      "outputs": []
    },
    {
      "cell_type": "code",
      "source": [
        "for crime in labels:\n",
        "    if crime in asian_crime_2021.index:\n",
        "        pass\n",
        "    else:\n",
        "        asian_crime_2021[crime] = 0"
      ],
      "metadata": {
        "id": "2IHxL77Nfz6i"
      },
      "execution_count": null,
      "outputs": []
    },
    {
      "cell_type": "code",
      "source": [
        "for crime in labels:\n",
        "    if crime in trans_crime_2019.index:\n",
        "        pass\n",
        "    else:\n",
        "        trans_crime_2019[crime] = 0"
      ],
      "metadata": {
        "id": "gz2FSoepat5j"
      },
      "execution_count": null,
      "outputs": []
    },
    {
      "cell_type": "code",
      "source": [
        "for crime in labels:\n",
        "    if crime in trans_crime_2020.index:\n",
        "        pass\n",
        "    else:\n",
        "        asian_crime_2020[crime] = 0"
      ],
      "metadata": {
        "id": "mDpeJutdawUA"
      },
      "execution_count": null,
      "outputs": []
    },
    {
      "cell_type": "code",
      "source": [
        "for crime in labels:\n",
        "    if crime in trans_crime_2021.index:\n",
        "        pass\n",
        "    else:\n",
        "        trans_crime_2021[crime] = 0"
      ],
      "metadata": {
        "id": "6DT0AUPFaxHu"
      },
      "execution_count": null,
      "outputs": []
    },
    {
      "cell_type": "code",
      "source": [
        "asian_crime_2019"
      ],
      "metadata": {
        "colab": {
          "base_uri": "https://localhost:8080/"
        },
        "id": "MPJ7HOyjyCTh",
        "outputId": "2dae276e-6dde-4453-bf8c-1103d0a5bd5e"
      },
      "execution_count": null,
      "outputs": [
        {
          "output_type": "execute_result",
          "data": {
            "text/plain": [
              "Murder/Non-negligent Manslaughter               1\n",
              "FELONY ASSAULT                                  0\n",
              "ASSAULT 3 & RELATED OFFENSES                    0\n",
              "ROBBERY                                         0\n",
              "RAPE                                            0\n",
              "MISCELLANEOUS PENAL LAW                         0\n",
              "OFFENSES AGAINST PUBLIC ORDER/ADMINISTRATION    0\n",
              "CRIMINAL MISCHIEF                               0\n",
              "BURGLARY                                        0\n",
              "CRIMINAL TRESPASS                               0\n",
              "DANGEROUS WEAPONS                               0\n",
              "GRAND LARCENY                                   0\n",
              "SEX CRIMES                                      0\n",
              "HARRASSMENT                                     0\n",
              "INVESTIGATIONS/COMPLAINTS ONLY                  0\n",
              "FRAUDS                                          0\n",
              "PETIT LARCENY                                   0\n",
              "Name: Offense Description, dtype: int64"
            ]
          },
          "metadata": {},
          "execution_count": 90
        }
      ]
    },
    {
      "cell_type": "markdown",
      "source": [
        "Need to find a way chart all five groups in one graph\n",
        "\n",
        "need to make a pie graph of 'Complaint Year Number' comparing 2019 - 2021 complaints"
      ],
      "metadata": {
        "id": "lQ1X7hho0FcP"
      }
    },
    {
      "cell_type": "code",
      "source": [
        "plt.rcParams[\"figure.figsize\"] = [10.50, 9.50]\n",
        "plt.rcParams[\"figure.autolayout\"] = True\n",
        "\n",
        "b1 = plt.barh(labels, asian_crime_2019)\n",
        "\n",
        "b2 = plt.barh(labels, asian_crime_2020)\n",
        "\n",
        "b3 = plt.barh(labels, asian_crime_2021, left=asian_crime_2019)\n",
        "\n",
        "\n",
        "plt.legend([b1, b2, b3], [\"hate crime 2019\", \"hate crime 2020\", \"hate crime 2021\" ], title=\"Offenses Commited Against Asian Americans in New York City\", loc=\"upper right\")\n",
        "\n",
        "plt.show()\n"
      ],
      "metadata": {
        "id": "oKOc458ayUIW",
        "colab": {
          "base_uri": "https://localhost:8080/",
          "height": 599
        },
        "outputId": "aec3d2ed-1ea6-4168-dec7-1abda40b218d"
      },
      "execution_count": null,
      "outputs": [
        {
          "output_type": "display_data",
          "data": {
            "text/plain": [
              "<Figure size 756x684 with 1 Axes>"
            ],
            "image/png": "[encoded data removed]"
          },
          "metadata": {
            "needs_background": "light"
          }
        }
      ]
    },
    {
      "cell_type": "code",
      "source": [
        "plt.rcParams[\"figure.figsize\"] = [10.50, 9.50]\n",
        "plt.rcParams[\"figure.autolayout\"] = True\n",
        "\n",
        "c1 = plt.barh(labels, african_american_crime_2019, color=\"red\")\n",
        "\n",
        "c2 = plt.barh(labels, african_american_crime_2020,  color=\"blue\")\n",
        "\n",
        "c3 = plt.barh(labels, african_american_crime_2021, left=african_american_crime_2019, color=\"green\")\n",
        "\n",
        "\n",
        "plt.legend([c1, c2, c3], [\"hate crimes 2019\", \"hate crimes 2020\", \"hate crimes 2021\" ], title=\"Offenses Commited Against African Americans in New York City\", loc=\"upper right\")\n",
        "\n",
        "plt.show()"
      ],
      "metadata": {
        "colab": {
          "base_uri": "https://localhost:8080/",
          "height": 599
        },
        "id": "xho_2Ic8g0r8",
        "outputId": "d1b5adef-7c6c-4f6e-cdf5-506baf12cb8b"
      },
      "execution_count": null,
      "outputs": [
        {
          "output_type": "display_data",
          "data": {
            "text/plain": [
              "<Figure size 756x684 with 1 Axes>"
            ],
            "image/png": "[encoded data removed]"
          },
          "metadata": {
            "needs_background": "light"
          }
        }
      ]
    },
    {
      "cell_type": "code",
      "source": [
        "plt.rcParams[\"figure.figsize\"] = [10.50, 9.50]\n",
        "plt.rcParams[\"figure.autolayout\"] = True\n",
        "\n",
        "d1 = plt.barh(labels, white_crime_2019)\n",
        "\n",
        "d2 = plt.barh(labels, white_crime_2020)\n",
        "\n",
        "d3 = plt.barh(labels, white_crime_2021, left=white_crime_2019)\n",
        "\n",
        "\n",
        "plt.legend([d1, d2, d3], [\"hate crime 2019\", \"hate crime 2020\", \"hate crime 2021\" ], title=\"Offenses Commited Against Caucasian Americans in New York City\", loc=\"upper right\")\n",
        "\n",
        "plt.show()"
      ],
      "metadata": {
        "colab": {
          "base_uri": "https://localhost:8080/",
          "height": 599
        },
        "id": "gi14FQveg1ah",
        "outputId": "ec88ddeb-6523-4cbf-b513-4a7914e99465"
      },
      "execution_count": null,
      "outputs": [
        {
          "output_type": "display_data",
          "data": {
            "text/plain": [
              "<Figure size 756x684 with 1 Axes>"
            ],
            "image/png": "[encoded data removed]"
          },
          "metadata": {
            "needs_background": "light"
          }
        }
      ]
    },
    {
      "cell_type": "code",
      "source": [
        "#find value counts and sort to see how to put the order of label in pie chart below\n",
        "df['County'].value_counts().sort_values()"
      ],
      "metadata": {
        "colab": {
          "base_uri": "https://localhost:8080/"
        },
        "id": "F2E1oFx3tMa1",
        "outputId": "a5387328-98ae-42f3-f10e-ab2229f209f8"
      },
      "execution_count": null,
      "outputs": [
        {
          "output_type": "execute_result",
          "data": {
            "text/plain": [
              "STATEN ISLAND     48\n",
              "BRONX            110\n",
              "QUEENS           235\n",
              "BROOKLYN         441\n",
              "MANHATTAN        462\n",
              "Name: County, dtype: int64"
            ]
          },
          "metadata": {},
          "execution_count": 94
        }
      ]
    },
    {
      "cell_type": "code",
      "source": [
        "#County/Boro where crimes took place\n",
        "\n",
        "#define data\n",
        "data = df['County'].value_counts().sort_values()\n",
        "labels = ['STATEN ISLAND','BRONX', 'QUEENS', 'BROOKLYN', 'MANHATTAN']\n",
        "\n",
        "#define Seaborn color palette to use\n",
        "colors = sns.color_palette('pastel')[0:5]\n",
        "\n",
        "#create pie chart\n",
        "plt.pie(data, labels = labels, colors = colors, autopct='%.0f%%')\n",
        "plt.title(\"NYC County/Boro where hate crimes took place\")\n",
        "\n",
        "plt.show()\n"
      ],
      "metadata": {
        "colab": {
          "base_uri": "https://localhost:8080/",
          "height": 632
        },
        "id": "5GTGtXS9rQ7E",
        "outputId": "fe154610-a49f-4c74-f210-4d8b2f3ba4af"
      },
      "execution_count": null,
      "outputs": [
        {
          "output_type": "display_data",
          "data": {
            "text/plain": [
              "<Figure size 756x684 with 1 Axes>"
            ],
            "image/png": "[encoded data removed]"
          },
          "metadata": {}
        }
      ]
    },
    {
      "cell_type": "code",
      "source": [
        "df['Complaint Year Number'].value_counts().sort_values()"
      ],
      "metadata": {
        "colab": {
          "base_uri": "https://localhost:8080/"
        },
        "id": "y3VQGpQEu_vG",
        "outputId": "3326ce38-e0c9-43cc-b2f9-a9cf1b547f2b"
      },
      "execution_count": null,
      "outputs": [
        {
          "output_type": "execute_result",
          "data": {
            "text/plain": [
              "2020    284\n",
              "2019    447\n",
              "2021    565\n",
              "Name: Complaint Year Number, dtype: int64"
            ]
          },
          "metadata": {},
          "execution_count": 96
        }
      ]
    },
    {
      "cell_type": "code",
      "source": [
        "df['Complaint Year Number'].value_counts().plot(kind='bar')\n",
        "plt.ylabel(\"Rstimate of Total Compaints\" )\n",
        "plt.xlabel('Year of Complaints')\n",
        "plt.title(\"NYC Hate Crime Complaints Yearly Comparison\")\n",
        "\n",
        "plt.show()"
      ],
      "metadata": {
        "id": "fb-9o0zdYGwR",
        "colab": {
          "base_uri": "https://localhost:8080/",
          "height": 599
        },
        "outputId": "881035fe-ebb3-4bdc-a018-466bed6f9f18"
      },
      "execution_count": null,
      "outputs": [
        {
          "output_type": "display_data",
          "data": {
            "text/plain": [
              "<Figure size 756x684 with 1 Axes>"
            ],
            "image/png": "[encoded data removed]"
          },
          "metadata": {
            "needs_background": "light"
          }
        }
      ]
    },
    {
      "cell_type": "code",
      "source": [
        "#define data\n",
        "data = df['Complaint Year Number'].value_counts().sort_values()\n",
        "labels = ['2020','2019','2021']\n",
        "\n",
        "#define Seaborn color palette to use\n",
        "colors = sns.color_palette('pastel')[0:5]\n",
        "\n",
        "#create pie chart\n",
        "plt.pie(data, labels = labels, colors = colors, autopct='%.0f%%')\n",
        "plt.title(\"NYC Hate Crime Complaints Yearly Comparison\")\n",
        "\n",
        "plt.show()\n"
      ],
      "metadata": {
        "colab": {
          "base_uri": "https://localhost:8080/",
          "height": 676
        },
        "id": "lx-lcEWVuleW",
        "outputId": "f1601876-4760-46c4-df09-163b2915328a"
      },
      "execution_count": null,
      "outputs": [
        {
          "output_type": "display_data",
          "data": {
            "text/plain": [
              "<Figure size 756x684 with 1 Axes>"
            ],
            "image/png": "[encoded data removed]"
          },
          "metadata": {}
        }
      ]
    },
    {
      "cell_type": "code",
      "source": [
        "df['Offense Description'].value_counts().sort_values()"
      ],
      "metadata": {
        "colab": {
          "base_uri": "https://localhost:8080/"
        },
        "id": "L94iv8FlfKio",
        "outputId": "eebbecff-b9ee-4b8e-d00d-c6cec6bcb183"
      },
      "execution_count": null,
      "outputs": [
        {
          "output_type": "execute_result",
          "data": {
            "text/plain": [
              "FRAUDS                                            1\n",
              "RAPE                                              1\n",
              "INVESTIGATIONS/COMPLAINTS ONLY                    1\n",
              "PETIT LARCENY                                     2\n",
              "DANGEROUS WEAPONS                                 2\n",
              "CRIMINAL TRESPASS                                 2\n",
              "SEX CRIMES                                        3\n",
              "Murder/Non-negligent Manslaughter                 4\n",
              "BURGLARY                                          6\n",
              "HARRASSMENT                                      14\n",
              "GRAND LARCENY                                    20\n",
              "ROBBERY                                          38\n",
              "FELONY ASSAULT                                  148\n",
              "OFFENSES AGAINST PUBLIC ORDER/ADMINISTRATION    164\n",
              "ASSAULT 3 & RELATED OFFENSES                    232\n",
              "MISCELLANEOUS PENAL LAW                         327\n",
              "CRIMINAL MISCHIEF                               331\n",
              "Name: Offense Description, dtype: int64"
            ]
          },
          "metadata": {},
          "execution_count": 99
        }
      ]
    }
  ]
}